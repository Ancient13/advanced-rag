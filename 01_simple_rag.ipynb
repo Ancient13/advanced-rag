{
 "cells": [
  {
   "cell_type": "markdown",
   "metadata": {},
   "source": [
    "# Simple RAG Implementation\n",
    "\n",
    "Based on [Alfredo Deza's GitHub Repository](https://github.com/alfredodeza/learn-retrieval-augmented-generation).\n",
    "\n",
    "In this notebook we will build a simple RAG application based on a structured CSV file with wine rating. We will:\n",
    "* [Load the small dataset](#loading-the-dataset).\n",
    "* [Encode a column using vector embedding](#Encode-using-vector-embedding).\n",
    "* [**R**etrieve some of the rows based on a query using semantic similarity](#retrieve-sematically-relevant-data-based-on-users-query).\n",
    "* [**A**ugment the prompt to the LLM with the retrieved data](#augment-the-prompt-to-the-llm-with-retrieved-data).\n",
    "* [**G**enerate a reply to the user's query based on the retrieved rows](#generate-reply-to-the-users-query)."
   ]
  },
  {
   "cell_type": "markdown",
   "metadata": {},
   "source": [
    "### Visual improvements\n",
    "\n",
    "We will use [rich library](https://github.com/Textualize/rich), and `rich-theme-manager` to make the output more readable, and supress warning messages."
   ]
  },
  {
   "cell_type": "code",
   "execution_count": 4,
   "metadata": {},
   "outputs": [
    {
     "data": {
      "text/html": [
       "<pre style=\"white-space:pre;overflow-x:auto;line-height:normal;font-family:Menlo,'DejaVu Sans Mono',consolas,'Courier New',monospace\"><span style=\"font-weight: bold\"> Theme  Description       Tags  Path               </span>\n",
       " dark   Dark mode theme   dark  themes\\dark.theme  \n",
       " light  Light mode theme        themes\\light.theme \n",
       "</pre>\n"
      ],
      "text/plain": [
       "\u001b[1m \u001b[0m\u001b[1mTheme\u001b[0m\u001b[1m \u001b[0m\u001b[1m \u001b[0m\u001b[1mDescription     \u001b[0m\u001b[1m \u001b[0m\u001b[1m \u001b[0m\u001b[1mTags\u001b[0m\u001b[1m \u001b[0m\u001b[1m \u001b[0m\u001b[1mPath              \u001b[0m\u001b[1m \u001b[0m\n",
       " dark   Dark mode theme   dark  themes\\dark.theme  \n",
       " light  Light mode theme        themes\\light.theme \n"
      ]
     },
     "metadata": {},
     "output_type": "display_data"
    },
    {
     "data": {
      "text/html": [
       "<pre style=\"white-space:pre;overflow-x:auto;line-height:normal;font-family:Menlo,'DejaVu Sans Mono',consolas,'Courier New',monospace\"><span style=\"font-style: italic\">                                      Theme: dark - themes\\dark.theme                                      </span>\n",
       "┌───────────────────┬───────────────┬───────┬─────────┬─────────┬────────────────┬────────────────────────┐\n",
       "│<span style=\"font-weight: bold\"> style             </span>│<span style=\"font-weight: bold\"> color         </span>│<span style=\"font-weight: bold\"> color </span>│<span style=\"font-weight: bold\"> bgcolor </span>│<span style=\"font-weight: bold\"> bgcolor </span>│<span style=\"font-weight: bold\"> attributes     </span>│<span style=\"font-weight: bold\"> example                </span>│\n",
       "├───────────────────┼───────────────┼───────┼─────────┼─────────┼────────────────┼────────────────────────┤\n",
       "│ default           │ bright_white  │ <span style=\"color: #ffffff; text-decoration-color: #ffffff\">█████</span> │ black   │ <span style=\"color: #000000; text-decoration-color: #000000\">█████  </span> │ -------------- │ <span style=\"color: #ffffff; text-decoration-color: #ffffff; background-color: #000000\">The quick brown fox...</span> │\n",
       "├───────────────────┼───────────────┼───────┼─────────┼─────────┼────────────────┼────────────────────────┤\n",
       "│ repr.attrib_name  │ #e87d3e       │ <span style=\"color: #e87d3e; text-decoration-color: #e87d3e\">█████</span> │ None    │         │ <span style=\"font-weight: bold\">b</span>------------- │ <span style=\"color: #e87d3e; text-decoration-color: #e87d3e; font-weight: bold\">The quick brown fox...</span> │\n",
       "├───────────────────┼───────────────┼───────┼─────────┼─────────┼────────────────┼────────────────────────┤\n",
       "│ repr.attrib_value │ bright_blue   │ <span style=\"color: #0000ff; text-decoration-color: #0000ff\">█████</span> │ None    │         │ -------------- │ <span style=\"color: #0000ff; text-decoration-color: #0000ff\">The quick brown fox...</span> │\n",
       "├───────────────────┼───────────────┼───────┼─────────┼─────────┼────────────────┼────────────────────────┤\n",
       "│ repr.call         │ bright_yellow │ <span style=\"color: #ffff00; text-decoration-color: #ffff00\">█████</span> │ None    │         │ -------------- │ <span style=\"color: #ffff00; text-decoration-color: #ffff00\">The quick brown fox...</span> │\n",
       "├───────────────────┼───────────────┼───────┼─────────┼─────────┼────────────────┼────────────────────────┤\n",
       "│ repr.none         │ white         │ <span style=\"color: #c0c0c0; text-decoration-color: #c0c0c0\">█████</span> │ None    │         │ -<span style=\"font-weight: bold\">d</span>------------ │ <span style=\"color: #dfdfdf; text-decoration-color: #dfdfdf\">The quick brown fox...</span> │\n",
       "├───────────────────┼───────────────┼───────┼─────────┼─────────┼────────────────┼────────────────────────┤\n",
       "│ repr.number       │ bright_red    │ <span style=\"color: #ff0000; text-decoration-color: #ff0000\">█████</span> │ None    │         │ -------------- │ <span style=\"color: #ff0000; text-decoration-color: #ff0000\">The quick brown fox...</span> │\n",
       "├───────────────────┼───────────────┼───────┼─────────┼─────────┼────────────────┼────────────────────────┤\n",
       "│ repr.own          │ #e87d3e       │ <span style=\"color: #e87d3e; text-decoration-color: #e87d3e\">█████</span> │ None    │         │ <span style=\"font-weight: bold\">b</span>------------- │ <span style=\"color: #e87d3e; text-decoration-color: #e87d3e; font-weight: bold\">The quick brown fox...</span> │\n",
       "├───────────────────┼───────────────┼───────┼─────────┼─────────┼────────────────┼────────────────────────┤\n",
       "│ repr.str          │ bright_green  │ <span style=\"color: #00ff00; text-decoration-color: #00ff00\">█████</span> │ None    │         │ -------------- │ <span style=\"color: #00ff00; text-decoration-color: #00ff00\">The quick brown fox...</span> │\n",
       "├───────────────────┼───────────────┼───────┼─────────┼─────────┼────────────────┼────────────────────────┤\n",
       "│ repr.tag_name     │ cyan          │ <span style=\"color: #008080; text-decoration-color: #008080\">█████</span> │ None    │         │ -<span style=\"font-weight: bold\">d</span>------------ │ <span style=\"color: #7fbfbf; text-decoration-color: #7fbfbf\">The quick brown fox...</span> │\n",
       "└───────────────────┴───────────────┴───────┴─────────┴─────────┴────────────────┴────────────────────────┘\n",
       "┌─ attributes legend ──────────────────────────────────────────────────────────────────┐\n",
       "│  <span style=\"font-weight: bold\">b</span>: bold, <span style=\"font-weight: bold\">d</span>: dim, <span style=\"font-weight: bold\">i</span>: italic, <span style=\"font-weight: bold\">u</span>: underline, <span style=\"font-weight: bold\">U</span>: double underline, <span style=\"font-weight: bold\">B</span>: blink, <span style=\"font-weight: bold\">2</span>: blink2  │\n",
       "│  <span style=\"font-weight: bold\">r</span>: reverse, <span style=\"font-weight: bold\">c</span>: conceal, <span style=\"font-weight: bold\">s</span>: strike, <span style=\"font-weight: bold\">f</span>: frame, <span style=\"font-weight: bold\">e</span>: encircle, <span style=\"font-weight: bold\">o</span>: overline, <span style=\"font-weight: bold\">L</span>: Link      │\n",
       "└──────────────────────────────────────────────────────────────────────────────────────┘\n",
       "</pre>\n"
      ],
      "text/plain": [
       "\u001b[3m                                      Theme: dark - themes\\dark.theme                                      \u001b[0m\n",
       "┌───────────────────┬───────────────┬───────┬─────────┬─────────┬────────────────┬────────────────────────┐\n",
       "│\u001b[1m \u001b[0m\u001b[1mstyle            \u001b[0m\u001b[1m \u001b[0m│\u001b[1m \u001b[0m\u001b[1mcolor        \u001b[0m\u001b[1m \u001b[0m│\u001b[1m \u001b[0m\u001b[1mcolor\u001b[0m\u001b[1m \u001b[0m│\u001b[1m \u001b[0m\u001b[1mbgcolor\u001b[0m\u001b[1m \u001b[0m│\u001b[1m \u001b[0m\u001b[1mbgcolor\u001b[0m\u001b[1m \u001b[0m│\u001b[1m \u001b[0m\u001b[1mattributes    \u001b[0m\u001b[1m \u001b[0m│\u001b[1m \u001b[0m\u001b[1mexample               \u001b[0m\u001b[1m \u001b[0m│\n",
       "├───────────────────┼───────────────┼───────┼─────────┼─────────┼────────────────┼────────────────────────┤\n",
       "│ default           │ bright_white  │ \u001b[97m█████\u001b[0m │ black   │ \u001b[30m█████  \u001b[0m │ -------------- │ \u001b[97;40mThe quick brown fox...\u001b[0m │\n",
       "├───────────────────┼───────────────┼───────┼─────────┼─────────┼────────────────┼────────────────────────┤\n",
       "│ repr.attrib_name  │ #e87d3e       │ \u001b[38;2;232;125;62m█████\u001b[0m │ None    │         │ \u001b[1mb\u001b[0m------------- │ \u001b[1;38;2;232;125;62mThe quick brown fox...\u001b[0m │\n",
       "├───────────────────┼───────────────┼───────┼─────────┼─────────┼────────────────┼────────────────────────┤\n",
       "│ repr.attrib_value │ bright_blue   │ \u001b[94m█████\u001b[0m │ None    │         │ -------------- │ \u001b[94mThe quick brown fox...\u001b[0m │\n",
       "├───────────────────┼───────────────┼───────┼─────────┼─────────┼────────────────┼────────────────────────┤\n",
       "│ repr.call         │ bright_yellow │ \u001b[93m█████\u001b[0m │ None    │         │ -------------- │ \u001b[93mThe quick brown fox...\u001b[0m │\n",
       "├───────────────────┼───────────────┼───────┼─────────┼─────────┼────────────────┼────────────────────────┤\n",
       "│ repr.none         │ white         │ \u001b[37m█████\u001b[0m │ None    │         │ -\u001b[1md\u001b[0m------------ │ \u001b[2;37mThe quick brown fox...\u001b[0m │\n",
       "├───────────────────┼───────────────┼───────┼─────────┼─────────┼────────────────┼────────────────────────┤\n",
       "│ repr.number       │ bright_red    │ \u001b[91m█████\u001b[0m │ None    │         │ -------------- │ \u001b[91mThe quick brown fox...\u001b[0m │\n",
       "├───────────────────┼───────────────┼───────┼─────────┼─────────┼────────────────┼────────────────────────┤\n",
       "│ repr.own          │ #e87d3e       │ \u001b[38;2;232;125;62m█████\u001b[0m │ None    │         │ \u001b[1mb\u001b[0m------------- │ \u001b[1;38;2;232;125;62mThe quick brown fox...\u001b[0m │\n",
       "├───────────────────┼───────────────┼───────┼─────────┼─────────┼────────────────┼────────────────────────┤\n",
       "│ repr.str          │ bright_green  │ \u001b[92m█████\u001b[0m │ None    │         │ -------------- │ \u001b[92mThe quick brown fox...\u001b[0m │\n",
       "├───────────────────┼───────────────┼───────┼─────────┼─────────┼────────────────┼────────────────────────┤\n",
       "│ repr.tag_name     │ cyan          │ \u001b[36m█████\u001b[0m │ None    │         │ -\u001b[1md\u001b[0m------------ │ \u001b[2;36mThe quick brown fox...\u001b[0m │\n",
       "└───────────────────┴───────────────┴───────┴─────────┴─────────┴────────────────┴────────────────────────┘\n",
       "┌─ attributes legend ──────────────────────────────────────────────────────────────────┐\n",
       "│  \u001b[1mb\u001b[0m: bold, \u001b[1md\u001b[0m: dim, \u001b[1mi\u001b[0m: italic, \u001b[1mu\u001b[0m: underline, \u001b[1mU\u001b[0m: double underline, \u001b[1mB\u001b[0m: blink, \u001b[1m2\u001b[0m: blink2  │\n",
       "│  \u001b[1mr\u001b[0m: reverse, \u001b[1mc\u001b[0m: conceal, \u001b[1ms\u001b[0m: strike, \u001b[1mf\u001b[0m: frame, \u001b[1me\u001b[0m: encircle, \u001b[1mo\u001b[0m: overline, \u001b[1mL\u001b[0m: Link      │\n",
       "└──────────────────────────────────────────────────────────────────────────────────────┘\n"
      ]
     },
     "metadata": {},
     "output_type": "display_data"
    }
   ],
   "source": [
    "from rich.console import Console\n",
    "from rich.style import Style\n",
    "import pathlib\n",
    "from rich_theme_manager import Theme, ThemeManager\n",
    "\n",
    "THEMES = [\n",
    "    Theme(\n",
    "        name=\"dark\",\n",
    "        description=\"Dark mode theme\",\n",
    "        tags=[\"dark\"],\n",
    "        styles={\n",
    "            \"repr.own\": Style(color=\"#e87d3e\", bold=True),      # Class names\n",
    "            \"repr.tag_name\": \"dim cyan\",                        # Adjust tag names \n",
    "            \"repr.call\": \"bright_yellow\",                       # Function calls and other symbols\n",
    "            \"repr.str\": \"bright_green\",                         # String representation\n",
    "            \"repr.number\": \"bright_red\",                        # Numbers\n",
    "            \"repr.none\": \"dim white\",                           # None\n",
    "            \"repr.attrib_name\": Style(color=\"#e87d3e\", bold=True),    # Attribute names\n",
    "            \"repr.attrib_value\": \"bright_blue\",                 # Attribute values\n",
    "            \"default\": \"bright_white on black\"                  # Default text and background\n",
    "        },\n",
    "    ),\n",
    "    Theme(\n",
    "        name=\"light\",\n",
    "        description=\"Light mode theme\",\n",
    "        styles={\n",
    "            \"repr.own\": Style(color=\"#22863a\", bold=True),          # Class names\n",
    "            \"repr.tag_name\": Style(color=\"#00bfff\", bold=True),     # Adjust tag names \n",
    "            \"repr.call\": Style(color=\"#ffff00\", bold=True),         # Function calls and other symbols\n",
    "            \"repr.str\": Style(color=\"#008080\", bold=True),          # String representation\n",
    "            \"repr.number\": Style(color=\"#ff6347\", bold=True),       # Numbers\n",
    "            \"repr.none\": Style(color=\"#808080\", bold=True),         # None\n",
    "            \"repr.attrib_name\": Style(color=\"#ffff00\", bold=True),  # Attribute names\n",
    "            \"repr.attrib_value\": Style(color=\"#008080\", bold=True), # Attribute values\n",
    "            \"default\": Style(color=\"#000000\", bgcolor=\"#ffffff\"),   # Default text and background\n",
    "        },\n",
    "    ),\n",
    "]\n",
    "\n",
    "theme_dir = pathlib.Path(\"themes\").expanduser()\n",
    "theme_dir.expanduser().mkdir(parents=True, exist_ok=True)\n",
    "\n",
    "theme_manager = ThemeManager(theme_dir=theme_dir, themes=THEMES)\n",
    "theme_manager.list_themes()\n",
    "\n",
    "dark = theme_manager.get(\"dark\")\n",
    "theme_manager.preview_theme(dark)"
   ]
  },
  {
   "cell_type": "code",
   "execution_count": 7,
   "metadata": {},
   "outputs": [],
   "source": [
    "from rich.console import Console\n",
    "\n",
    "dark = theme_manager.get(\"dark\")\n",
    "# Create a console with the dark theme\n",
    "console = Console(theme=dark)\n"
   ]
  },
  {
   "cell_type": "code",
   "execution_count": 5,
   "metadata": {},
   "outputs": [],
   "source": [
    "import warnings\n",
    "\n",
    "# Suppress warnings\n",
    "warnings.filterwarnings('ignore')"
   ]
  },
  {
   "cell_type": "markdown",
   "metadata": {},
   "source": [
    "## Loading the Dataset\n",
    "\n",
    "Since the data is in a simple, small and structured CSV file, we can load it using Pandas."
   ]
  },
  {
   "cell_type": "code",
   "execution_count": 8,
   "metadata": {},
   "outputs": [
    {
     "data": {
      "text/html": [
       "<pre style=\"white-space:pre;overflow-x:auto;line-height:normal;font-family:Menlo,'DejaVu Sans Mono',consolas,'Courier New',monospace\"><span style=\"font-weight: bold\">[</span>\n",
       "    <span style=\"font-weight: bold\">{</span>\n",
       "        <span style=\"color: #00ff00; text-decoration-color: #00ff00\">'name'</span>: <span style=\"color: #00ff00; text-decoration-color: #00ff00\">'3 Rings Reserve Shiraz 2004'</span>,\n",
       "        <span style=\"color: #00ff00; text-decoration-color: #00ff00\">'region'</span>: <span style=\"color: #00ff00; text-decoration-color: #00ff00\">'Barossa Valley, Barossa, South Australia, Australia'</span>,\n",
       "        <span style=\"color: #00ff00; text-decoration-color: #00ff00\">'variety'</span>: <span style=\"color: #00ff00; text-decoration-color: #00ff00\">'Red Wine'</span>,\n",
       "        <span style=\"color: #00ff00; text-decoration-color: #00ff00\">'rating'</span>: <span style=\"color: #ff0000; text-decoration-color: #ff0000\">96.0</span>,\n",
       "        <span style=\"color: #00ff00; text-decoration-color: #00ff00\">'notes'</span>: <span style=\"color: #00ff00; text-decoration-color: #00ff00\">'Vintage Comments : Classic Barossa vintage conditions. An average wet Spring followed by extreme </span>\n",
       "<span style=\"color: #00ff00; text-decoration-color: #00ff00\">heat in early February. Occasional rainfall events kept the vines in good balance up to harvest in late March 2004.</span>\n",
       "<span style=\"color: #00ff00; text-decoration-color: #00ff00\">Very good quality coupled with good average yields. More than 30 months in wood followed by six months tank </span>\n",
       "<span style=\"color: #00ff00; text-decoration-color: #00ff00\">maturation of the blend prior to bottling, July 2007. '</span>\n",
       "    <span style=\"font-weight: bold\">}</span>,\n",
       "    <span style=\"font-weight: bold\">{</span>\n",
       "        <span style=\"color: #00ff00; text-decoration-color: #00ff00\">'name'</span>: <span style=\"color: #00ff00; text-decoration-color: #00ff00\">'Abreu Vineyards Cappella 2007'</span>,\n",
       "        <span style=\"color: #00ff00; text-decoration-color: #00ff00\">'region'</span>: <span style=\"color: #00ff00; text-decoration-color: #00ff00\">'Napa Valley, California'</span>,\n",
       "        <span style=\"color: #00ff00; text-decoration-color: #00ff00\">'variety'</span>: <span style=\"color: #00ff00; text-decoration-color: #00ff00\">'Red Wine'</span>,\n",
       "        <span style=\"color: #00ff00; text-decoration-color: #00ff00\">'rating'</span>: <span style=\"color: #ff0000; text-decoration-color: #ff0000\">96.0</span>,\n",
       "        <span style=\"color: #00ff00; text-decoration-color: #00ff00\">'notes'</span>: <span style=\"color: #00ff00; text-decoration-color: #00ff00\">'Cappella is a proprietary blend of two clones of Cabernet Sauvignon with Cabernet Franc, Petit </span>\n",
       "<span style=\"color: #00ff00; text-decoration-color: #00ff00\">Verdot and Merlot. The gravelly soil at Cappella produces fruit that is very elegant in structure. The resulting </span>\n",
       "<span style=\"color: #00ff00; text-decoration-color: #00ff00\">wine exhibits beautiful purity of fruit with fine grained and lengthy tannins. '</span>\n",
       "    <span style=\"font-weight: bold\">}</span>\n",
       "<span style=\"font-weight: bold\">]</span>\n",
       "</pre>\n"
      ],
      "text/plain": [
       "\u001b[1m[\u001b[0m\n",
       "    \u001b[1m{\u001b[0m\n",
       "        \u001b[92m'name'\u001b[0m: \u001b[92m'3 Rings Reserve Shiraz 2004'\u001b[0m,\n",
       "        \u001b[92m'region'\u001b[0m: \u001b[92m'Barossa Valley, Barossa, South Australia, Australia'\u001b[0m,\n",
       "        \u001b[92m'variety'\u001b[0m: \u001b[92m'Red Wine'\u001b[0m,\n",
       "        \u001b[92m'rating'\u001b[0m: \u001b[91m96.0\u001b[0m,\n",
       "        \u001b[92m'notes'\u001b[0m: \u001b[92m'Vintage Comments : Classic Barossa vintage conditions. An average wet Spring followed by extreme \u001b[0m\n",
       "\u001b[92mheat in early February. Occasional rainfall events kept the vines in good balance up to harvest in late March 2004.\u001b[0m\n",
       "\u001b[92mVery good quality coupled with good average yields. More than 30 months in wood followed by six months tank \u001b[0m\n",
       "\u001b[92mmaturation of the blend prior to bottling, July 2007. '\u001b[0m\n",
       "    \u001b[1m}\u001b[0m,\n",
       "    \u001b[1m{\u001b[0m\n",
       "        \u001b[92m'name'\u001b[0m: \u001b[92m'Abreu Vineyards Cappella 2007'\u001b[0m,\n",
       "        \u001b[92m'region'\u001b[0m: \u001b[92m'Napa Valley, California'\u001b[0m,\n",
       "        \u001b[92m'variety'\u001b[0m: \u001b[92m'Red Wine'\u001b[0m,\n",
       "        \u001b[92m'rating'\u001b[0m: \u001b[91m96.0\u001b[0m,\n",
       "        \u001b[92m'notes'\u001b[0m: \u001b[92m'Cappella is a proprietary blend of two clones of Cabernet Sauvignon with Cabernet Franc, Petit \u001b[0m\n",
       "\u001b[92mVerdot and Merlot. The gravelly soil at Cappella produces fruit that is very elegant in structure. The resulting \u001b[0m\n",
       "\u001b[92mwine exhibits beautiful purity of fruit with fine grained and lengthy tannins. '\u001b[0m\n",
       "    \u001b[1m}\u001b[0m\n",
       "\u001b[1m]\u001b[0m\n"
      ]
     },
     "metadata": {},
     "output_type": "display_data"
    }
   ],
   "source": [
    "import pandas as pd\n",
    "\n",
    "data = (\n",
    "    pd\n",
    "    .read_csv('data/top_rated_wines.csv')\n",
    "    .query('variety.notna()')\n",
    "    .reset_index(drop=True)\n",
    "    .to_dict('records')\n",
    ")\n",
    "console.print(data[:2])"
   ]
  },
  {
   "cell_type": "markdown",
   "metadata": {},
   "source": [
    "## Encode using Vector Embedding\n",
    "\n",
    "We will use one of the popular open source vector databases, [Qdrant](https://qdrant.tech/), and one of the popular embedding encoder and text transformer libraries, [SentenceTransformer](https://sbert.net/)."
   ]
  },
  {
   "cell_type": "code",
   "execution_count": 9,
   "metadata": {},
   "outputs": [
    {
     "data": {
      "application/vnd.jupyter.widget-view+json": {
       "model_id": "06990404c2b34ad5ad5c15372450301f",
       "version_major": 2,
       "version_minor": 0
      },
      "text/plain": [
       "modules.json:   0%|          | 0.00/349 [00:00<?, ?B/s]"
      ]
     },
     "metadata": {},
     "output_type": "display_data"
    },
    {
     "data": {
      "application/vnd.jupyter.widget-view+json": {
       "model_id": "a49ffc7454e64de2912d7a9239533cc4",
       "version_major": 2,
       "version_minor": 0
      },
      "text/plain": [
       "config_sentence_transformers.json:   0%|          | 0.00/116 [00:00<?, ?B/s]"
      ]
     },
     "metadata": {},
     "output_type": "display_data"
    },
    {
     "data": {
      "application/vnd.jupyter.widget-view+json": {
       "model_id": "a8bf231362fe48b6b0ac890521aed2f8",
       "version_major": 2,
       "version_minor": 0
      },
      "text/plain": [
       "README.md: 0.00B [00:00, ?B/s]"
      ]
     },
     "metadata": {},
     "output_type": "display_data"
    },
    {
     "data": {
      "application/vnd.jupyter.widget-view+json": {
       "model_id": "d8c02d643df841ba8d70351decc04157",
       "version_major": 2,
       "version_minor": 0
      },
      "text/plain": [
       "sentence_bert_config.json:   0%|          | 0.00/53.0 [00:00<?, ?B/s]"
      ]
     },
     "metadata": {},
     "output_type": "display_data"
    },
    {
     "data": {
      "application/vnd.jupyter.widget-view+json": {
       "model_id": "fef08a9a78e44f9580aa8e04919f6ff8",
       "version_major": 2,
       "version_minor": 0
      },
      "text/plain": [
       "config.json:   0%|          | 0.00/612 [00:00<?, ?B/s]"
      ]
     },
     "metadata": {},
     "output_type": "display_data"
    },
    {
     "data": {
      "application/vnd.jupyter.widget-view+json": {
       "model_id": "7b0a9b4170b44c13878bf268961aa868",
       "version_major": 2,
       "version_minor": 0
      },
      "text/plain": [
       "model.safetensors:   0%|          | 0.00/90.9M [00:00<?, ?B/s]"
      ]
     },
     "metadata": {},
     "output_type": "display_data"
    },
    {
     "data": {
      "application/vnd.jupyter.widget-view+json": {
       "model_id": "6738f870db4240048b384a596f4ca1f7",
       "version_major": 2,
       "version_minor": 0
      },
      "text/plain": [
       "tokenizer_config.json:   0%|          | 0.00/350 [00:00<?, ?B/s]"
      ]
     },
     "metadata": {},
     "output_type": "display_data"
    },
    {
     "data": {
      "application/vnd.jupyter.widget-view+json": {
       "model_id": "5533327368e24e838e9ac4d354089925",
       "version_major": 2,
       "version_minor": 0
      },
      "text/plain": [
       "vocab.txt: 0.00B [00:00, ?B/s]"
      ]
     },
     "metadata": {},
     "output_type": "display_data"
    },
    {
     "data": {
      "application/vnd.jupyter.widget-view+json": {
       "model_id": "c5637ae45b7e450eb8870dd14d821d62",
       "version_major": 2,
       "version_minor": 0
      },
      "text/plain": [
       "tokenizer.json: 0.00B [00:00, ?B/s]"
      ]
     },
     "metadata": {},
     "output_type": "display_data"
    },
    {
     "data": {
      "application/vnd.jupyter.widget-view+json": {
       "model_id": "7c46dc1639d8495fb97a36dc0892032e",
       "version_major": 2,
       "version_minor": 0
      },
      "text/plain": [
       "special_tokens_map.json:   0%|          | 0.00/112 [00:00<?, ?B/s]"
      ]
     },
     "metadata": {},
     "output_type": "display_data"
    },
    {
     "data": {
      "application/vnd.jupyter.widget-view+json": {
       "model_id": "ae7ccd2b470d42b59aa5d30e38c52351",
       "version_major": 2,
       "version_minor": 0
      },
      "text/plain": [
       "config.json:   0%|          | 0.00/190 [00:00<?, ?B/s]"
      ]
     },
     "metadata": {},
     "output_type": "display_data"
    }
   ],
   "source": [
    "from qdrant_client import models, QdrantClient\n",
    "from sentence_transformers import SentenceTransformer\n",
    "\n",
    "# create the vector database client\n",
    "qdrant = QdrantClient(\":memory:\") # Create in-memory Qdrant instance\n",
    "\n",
    "# Create the embedding encoder\n",
    "encoder = SentenceTransformer('all-MiniLM-L6-v2') # Model to create embeddings"
   ]
  },
  {
   "cell_type": "code",
   "execution_count": 10,
   "metadata": {},
   "outputs": [
    {
     "data": {
      "text/plain": [
       "True"
      ]
     },
     "execution_count": 10,
     "metadata": {},
     "output_type": "execute_result"
    }
   ],
   "source": [
    "# Create collection to store the wine rating data\n",
    "collection_name=\"top_wines\"\n",
    "\n",
    "qdrant.recreate_collection(\n",
    "    collection_name=collection_name,\n",
    "    vectors_config=models.VectorParams(\n",
    "        size=encoder.get_sentence_embedding_dimension(), # Vector size is defined by used model\n",
    "        distance=models.Distance.COSINE\n",
    "    )\n",
    ")"
   ]
  },
  {
   "cell_type": "markdown",
   "metadata": {},
   "source": [
    "### Loading the data into the vector database\n",
    "\n",
    "We will use the (vector) collection that we created above, to go over all the `notes` column of the wine dataset, and encode it into embedding vector, and store it in the vector database. The indexing of the data to allow quick retrieval is running in the background as we load it.\n",
    "\n",
    "This step will take a few seconds (less than a minute on my laptop)."
   ]
  },
  {
   "cell_type": "code",
   "execution_count": 11,
   "metadata": {},
   "outputs": [],
   "source": [
    "# vectorize!\n",
    "qdrant.upload_points(\n",
    "    collection_name=collection_name,\n",
    "    points=[\n",
    "        models.PointStruct(\n",
    "            id=idx,\n",
    "            vector=encoder.encode(doc[\"notes\"]).tolist(),\n",
    "            payload=doc\n",
    "        ) for idx, doc in enumerate(data) # data is the variable holding all the wines\n",
    "    ]\n",
    ")"
   ]
  },
  {
   "cell_type": "code",
   "execution_count": 8,
   "metadata": {},
   "outputs": [
    {
     "data": {
      "text/html": [
       "<pre style=\"white-space:pre;overflow-x:auto;line-height:normal;font-family:Menlo,'DejaVu Sans Mono',consolas,'Courier New',monospace\"><span style=\"color: #ffff00; text-decoration-color: #ffff00\">CollectionInfo</span><span style=\"font-weight: bold\">(</span>\n",
       "    <span style=\"color: #e87d3e; text-decoration-color: #e87d3e; font-weight: bold\">status</span>=<span style=\"font-weight: bold\">&lt;</span><span style=\"color: #7fbfbf; text-decoration-color: #7fbfbf\">CollectionStatus.GREEN:</span><span style=\"color: #000000; text-decoration-color: #000000\"> </span><span style=\"color: #00ff00; text-decoration-color: #00ff00\">'green'</span><span style=\"color: #000000; text-decoration-color: #000000\">&gt;,</span>\n",
       "<span style=\"color: #000000; text-decoration-color: #000000\">    </span><span style=\"color: #e87d3e; text-decoration-color: #e87d3e; font-weight: bold\">optimizer_status</span><span style=\"color: #000000; text-decoration-color: #000000\">=&lt;OptimizersStatusOneOf.OK: </span><span style=\"color: #00ff00; text-decoration-color: #00ff00\">'ok'</span><span style=\"color: #000000; text-decoration-color: #000000\">&gt;,</span>\n",
       "<span style=\"color: #000000; text-decoration-color: #000000\">    </span><span style=\"color: #e87d3e; text-decoration-color: #e87d3e; font-weight: bold\">vectors_count</span><span style=\"color: #000000; text-decoration-color: #000000\">=</span><span style=\"color: #dfdfdf; text-decoration-color: #dfdfdf\">None</span><span style=\"color: #000000; text-decoration-color: #000000\">,</span>\n",
       "<span style=\"color: #000000; text-decoration-color: #000000\">    </span><span style=\"color: #e87d3e; text-decoration-color: #e87d3e; font-weight: bold\">indexed_vectors_count</span><span style=\"color: #000000; text-decoration-color: #000000\">=</span><span style=\"color: #ff0000; text-decoration-color: #ff0000\">0</span><span style=\"color: #000000; text-decoration-color: #000000\">,</span>\n",
       "<span style=\"color: #000000; text-decoration-color: #000000\">    </span><span style=\"color: #e87d3e; text-decoration-color: #e87d3e; font-weight: bold\">points_count</span><span style=\"color: #000000; text-decoration-color: #000000\">=</span><span style=\"color: #ff0000; text-decoration-color: #ff0000\">1347</span><span style=\"color: #000000; text-decoration-color: #000000\">,</span>\n",
       "<span style=\"color: #000000; text-decoration-color: #000000\">    </span><span style=\"color: #e87d3e; text-decoration-color: #e87d3e; font-weight: bold\">segments_count</span><span style=\"color: #000000; text-decoration-color: #000000\">=</span><span style=\"color: #ff0000; text-decoration-color: #ff0000\">1</span><span style=\"color: #000000; text-decoration-color: #000000\">,</span>\n",
       "<span style=\"color: #000000; text-decoration-color: #000000\">    </span><span style=\"color: #e87d3e; text-decoration-color: #e87d3e; font-weight: bold\">config</span><span style=\"color: #000000; text-decoration-color: #000000\">=</span><span style=\"color: #ffff00; text-decoration-color: #ffff00\">CollectionConfig</span><span style=\"color: #000000; text-decoration-color: #000000; font-weight: bold\">(</span>\n",
       "<span style=\"color: #000000; text-decoration-color: #000000\">        </span><span style=\"color: #e87d3e; text-decoration-color: #e87d3e; font-weight: bold\">params</span><span style=\"color: #000000; text-decoration-color: #000000\">=</span><span style=\"color: #ffff00; text-decoration-color: #ffff00\">CollectionParams</span><span style=\"color: #000000; text-decoration-color: #000000; font-weight: bold\">(</span>\n",
       "<span style=\"color: #000000; text-decoration-color: #000000\">            </span><span style=\"color: #e87d3e; text-decoration-color: #e87d3e; font-weight: bold\">vectors</span><span style=\"color: #000000; text-decoration-color: #000000\">=</span><span style=\"color: #ffff00; text-decoration-color: #ffff00\">VectorParams</span><span style=\"color: #000000; text-decoration-color: #000000; font-weight: bold\">(</span>\n",
       "<span style=\"color: #000000; text-decoration-color: #000000\">                </span><span style=\"color: #e87d3e; text-decoration-color: #e87d3e; font-weight: bold\">size</span><span style=\"color: #000000; text-decoration-color: #000000\">=</span><span style=\"color: #ff0000; text-decoration-color: #ff0000\">384</span><span style=\"color: #000000; text-decoration-color: #000000\">,</span>\n",
       "<span style=\"color: #000000; text-decoration-color: #000000\">                </span><span style=\"color: #e87d3e; text-decoration-color: #e87d3e; font-weight: bold\">distance</span><span style=\"color: #000000; text-decoration-color: #000000\">=&lt;Distance.COSINE: </span><span style=\"color: #00ff00; text-decoration-color: #00ff00\">'Cosine'</span><span style=\"font-weight: bold\">&gt;</span>,\n",
       "                <span style=\"color: #e87d3e; text-decoration-color: #e87d3e; font-weight: bold\">hnsw_config</span>=<span style=\"color: #dfdfdf; text-decoration-color: #dfdfdf\">None</span>,\n",
       "                <span style=\"color: #e87d3e; text-decoration-color: #e87d3e; font-weight: bold\">quantization_config</span>=<span style=\"color: #dfdfdf; text-decoration-color: #dfdfdf\">None</span>,\n",
       "                <span style=\"color: #e87d3e; text-decoration-color: #e87d3e; font-weight: bold\">on_disk</span>=<span style=\"color: #dfdfdf; text-decoration-color: #dfdfdf\">None</span>,\n",
       "                <span style=\"color: #e87d3e; text-decoration-color: #e87d3e; font-weight: bold\">datatype</span>=<span style=\"color: #dfdfdf; text-decoration-color: #dfdfdf\">None</span>,\n",
       "                <span style=\"color: #e87d3e; text-decoration-color: #e87d3e; font-weight: bold\">multivector_config</span>=<span style=\"color: #dfdfdf; text-decoration-color: #dfdfdf\">None</span>\n",
       "            <span style=\"font-weight: bold\">)</span>,\n",
       "            <span style=\"color: #e87d3e; text-decoration-color: #e87d3e; font-weight: bold\">shard_number</span>=<span style=\"color: #dfdfdf; text-decoration-color: #dfdfdf\">None</span>,\n",
       "            <span style=\"color: #e87d3e; text-decoration-color: #e87d3e; font-weight: bold\">sharding_method</span>=<span style=\"color: #dfdfdf; text-decoration-color: #dfdfdf\">None</span>,\n",
       "            <span style=\"color: #e87d3e; text-decoration-color: #e87d3e; font-weight: bold\">replication_factor</span>=<span style=\"color: #dfdfdf; text-decoration-color: #dfdfdf\">None</span>,\n",
       "            <span style=\"color: #e87d3e; text-decoration-color: #e87d3e; font-weight: bold\">write_consistency_factor</span>=<span style=\"color: #dfdfdf; text-decoration-color: #dfdfdf\">None</span>,\n",
       "            <span style=\"color: #e87d3e; text-decoration-color: #e87d3e; font-weight: bold\">read_fan_out_factor</span>=<span style=\"color: #dfdfdf; text-decoration-color: #dfdfdf\">None</span>,\n",
       "            <span style=\"color: #e87d3e; text-decoration-color: #e87d3e; font-weight: bold\">on_disk_payload</span>=<span style=\"color: #dfdfdf; text-decoration-color: #dfdfdf\">None</span>,\n",
       "            <span style=\"color: #e87d3e; text-decoration-color: #e87d3e; font-weight: bold\">sparse_vectors</span>=<span style=\"color: #dfdfdf; text-decoration-color: #dfdfdf\">None</span>\n",
       "        <span style=\"font-weight: bold\">)</span>,\n",
       "        <span style=\"color: #e87d3e; text-decoration-color: #e87d3e; font-weight: bold\">hnsw_config</span>=<span style=\"color: #ffff00; text-decoration-color: #ffff00\">HnswConfig</span><span style=\"font-weight: bold\">(</span>\n",
       "            <span style=\"color: #e87d3e; text-decoration-color: #e87d3e; font-weight: bold\">m</span>=<span style=\"color: #ff0000; text-decoration-color: #ff0000\">16</span>,\n",
       "            <span style=\"color: #e87d3e; text-decoration-color: #e87d3e; font-weight: bold\">ef_construct</span>=<span style=\"color: #ff0000; text-decoration-color: #ff0000\">100</span>,\n",
       "            <span style=\"color: #e87d3e; text-decoration-color: #e87d3e; font-weight: bold\">full_scan_threshold</span>=<span style=\"color: #ff0000; text-decoration-color: #ff0000\">10000</span>,\n",
       "            <span style=\"color: #e87d3e; text-decoration-color: #e87d3e; font-weight: bold\">max_indexing_threads</span>=<span style=\"color: #ff0000; text-decoration-color: #ff0000\">0</span>,\n",
       "            <span style=\"color: #e87d3e; text-decoration-color: #e87d3e; font-weight: bold\">on_disk</span>=<span style=\"color: #dfdfdf; text-decoration-color: #dfdfdf\">None</span>,\n",
       "            <span style=\"color: #e87d3e; text-decoration-color: #e87d3e; font-weight: bold\">payload_m</span>=<span style=\"color: #dfdfdf; text-decoration-color: #dfdfdf\">None</span>\n",
       "        <span style=\"font-weight: bold\">)</span>,\n",
       "        <span style=\"color: #e87d3e; text-decoration-color: #e87d3e; font-weight: bold\">optimizer_config</span>=<span style=\"color: #ffff00; text-decoration-color: #ffff00\">OptimizersConfig</span><span style=\"font-weight: bold\">(</span>\n",
       "            <span style=\"color: #e87d3e; text-decoration-color: #e87d3e; font-weight: bold\">deleted_threshold</span>=<span style=\"color: #ff0000; text-decoration-color: #ff0000\">0.2</span>,\n",
       "            <span style=\"color: #e87d3e; text-decoration-color: #e87d3e; font-weight: bold\">vacuum_min_vector_number</span>=<span style=\"color: #ff0000; text-decoration-color: #ff0000\">1000</span>,\n",
       "            <span style=\"color: #e87d3e; text-decoration-color: #e87d3e; font-weight: bold\">default_segment_number</span>=<span style=\"color: #ff0000; text-decoration-color: #ff0000\">0</span>,\n",
       "            <span style=\"color: #e87d3e; text-decoration-color: #e87d3e; font-weight: bold\">max_segment_size</span>=<span style=\"color: #dfdfdf; text-decoration-color: #dfdfdf\">None</span>,\n",
       "            <span style=\"color: #e87d3e; text-decoration-color: #e87d3e; font-weight: bold\">memmap_threshold</span>=<span style=\"color: #dfdfdf; text-decoration-color: #dfdfdf\">None</span>,\n",
       "            <span style=\"color: #e87d3e; text-decoration-color: #e87d3e; font-weight: bold\">indexing_threshold</span>=<span style=\"color: #ff0000; text-decoration-color: #ff0000\">20000</span>,\n",
       "            <span style=\"color: #e87d3e; text-decoration-color: #e87d3e; font-weight: bold\">flush_interval_sec</span>=<span style=\"color: #ff0000; text-decoration-color: #ff0000\">5</span>,\n",
       "            <span style=\"color: #e87d3e; text-decoration-color: #e87d3e; font-weight: bold\">max_optimization_threads</span>=<span style=\"color: #ff0000; text-decoration-color: #ff0000\">1</span>\n",
       "        <span style=\"font-weight: bold\">)</span>,\n",
       "        <span style=\"color: #e87d3e; text-decoration-color: #e87d3e; font-weight: bold\">wal_config</span>=<span style=\"color: #ffff00; text-decoration-color: #ffff00\">WalConfig</span><span style=\"font-weight: bold\">(</span><span style=\"color: #e87d3e; text-decoration-color: #e87d3e; font-weight: bold\">wal_capacity_mb</span>=<span style=\"color: #ff0000; text-decoration-color: #ff0000\">32</span>, <span style=\"color: #e87d3e; text-decoration-color: #e87d3e; font-weight: bold\">wal_segments_ahead</span>=<span style=\"color: #ff0000; text-decoration-color: #ff0000\">0</span><span style=\"font-weight: bold\">)</span>,\n",
       "        <span style=\"color: #e87d3e; text-decoration-color: #e87d3e; font-weight: bold\">quantization_config</span>=<span style=\"color: #dfdfdf; text-decoration-color: #dfdfdf\">None</span>\n",
       "    <span style=\"font-weight: bold\">)</span>,\n",
       "    <span style=\"color: #e87d3e; text-decoration-color: #e87d3e; font-weight: bold\">payload_schema</span>=<span style=\"font-weight: bold\">{}</span>\n",
       "<span style=\"font-weight: bold\">)</span>\n",
       "</pre>\n"
      ],
      "text/plain": [
       "\u001b[93mCollectionInfo\u001b[0m\u001b[1m(\u001b[0m\n",
       "    \u001b[1;38;2;232;125;62mstatus\u001b[0m=\u001b[1m<\u001b[0m\u001b[2;36mCollectionStatus.GREEN:\u001b[0m\u001b[39m \u001b[0m\u001b[92m'green'\u001b[0m\u001b[39m>,\u001b[0m\n",
       "\u001b[39m    \u001b[0m\u001b[1;38;2;232;125;62moptimizer_status\u001b[0m\u001b[39m=<OptimizersStatusOneOf.OK: \u001b[0m\u001b[92m'ok'\u001b[0m\u001b[39m>,\u001b[0m\n",
       "\u001b[39m    \u001b[0m\u001b[1;38;2;232;125;62mvectors_count\u001b[0m\u001b[39m=\u001b[0m\u001b[2;37mNone\u001b[0m\u001b[39m,\u001b[0m\n",
       "\u001b[39m    \u001b[0m\u001b[1;38;2;232;125;62mindexed_vectors_count\u001b[0m\u001b[39m=\u001b[0m\u001b[91m0\u001b[0m\u001b[39m,\u001b[0m\n",
       "\u001b[39m    \u001b[0m\u001b[1;38;2;232;125;62mpoints_count\u001b[0m\u001b[39m=\u001b[0m\u001b[91m1347\u001b[0m\u001b[39m,\u001b[0m\n",
       "\u001b[39m    \u001b[0m\u001b[1;38;2;232;125;62msegments_count\u001b[0m\u001b[39m=\u001b[0m\u001b[91m1\u001b[0m\u001b[39m,\u001b[0m\n",
       "\u001b[39m    \u001b[0m\u001b[1;38;2;232;125;62mconfig\u001b[0m\u001b[39m=\u001b[0m\u001b[93mCollectionConfig\u001b[0m\u001b[1;39m(\u001b[0m\n",
       "\u001b[39m        \u001b[0m\u001b[1;38;2;232;125;62mparams\u001b[0m\u001b[39m=\u001b[0m\u001b[93mCollectionParams\u001b[0m\u001b[1;39m(\u001b[0m\n",
       "\u001b[39m            \u001b[0m\u001b[1;38;2;232;125;62mvectors\u001b[0m\u001b[39m=\u001b[0m\u001b[93mVectorParams\u001b[0m\u001b[1;39m(\u001b[0m\n",
       "\u001b[39m                \u001b[0m\u001b[1;38;2;232;125;62msize\u001b[0m\u001b[39m=\u001b[0m\u001b[91m384\u001b[0m\u001b[39m,\u001b[0m\n",
       "\u001b[39m                \u001b[0m\u001b[1;38;2;232;125;62mdistance\u001b[0m\u001b[39m=<Distance.COSINE: \u001b[0m\u001b[92m'Cosine'\u001b[0m\u001b[1m>\u001b[0m,\n",
       "                \u001b[1;38;2;232;125;62mhnsw_config\u001b[0m=\u001b[2;37mNone\u001b[0m,\n",
       "                \u001b[1;38;2;232;125;62mquantization_config\u001b[0m=\u001b[2;37mNone\u001b[0m,\n",
       "                \u001b[1;38;2;232;125;62mon_disk\u001b[0m=\u001b[2;37mNone\u001b[0m,\n",
       "                \u001b[1;38;2;232;125;62mdatatype\u001b[0m=\u001b[2;37mNone\u001b[0m,\n",
       "                \u001b[1;38;2;232;125;62mmultivector_config\u001b[0m=\u001b[2;37mNone\u001b[0m\n",
       "            \u001b[1m)\u001b[0m,\n",
       "            \u001b[1;38;2;232;125;62mshard_number\u001b[0m=\u001b[2;37mNone\u001b[0m,\n",
       "            \u001b[1;38;2;232;125;62msharding_method\u001b[0m=\u001b[2;37mNone\u001b[0m,\n",
       "            \u001b[1;38;2;232;125;62mreplication_factor\u001b[0m=\u001b[2;37mNone\u001b[0m,\n",
       "            \u001b[1;38;2;232;125;62mwrite_consistency_factor\u001b[0m=\u001b[2;37mNone\u001b[0m,\n",
       "            \u001b[1;38;2;232;125;62mread_fan_out_factor\u001b[0m=\u001b[2;37mNone\u001b[0m,\n",
       "            \u001b[1;38;2;232;125;62mon_disk_payload\u001b[0m=\u001b[2;37mNone\u001b[0m,\n",
       "            \u001b[1;38;2;232;125;62msparse_vectors\u001b[0m=\u001b[2;37mNone\u001b[0m\n",
       "        \u001b[1m)\u001b[0m,\n",
       "        \u001b[1;38;2;232;125;62mhnsw_config\u001b[0m=\u001b[93mHnswConfig\u001b[0m\u001b[1m(\u001b[0m\n",
       "            \u001b[1;38;2;232;125;62mm\u001b[0m=\u001b[91m16\u001b[0m,\n",
       "            \u001b[1;38;2;232;125;62mef_construct\u001b[0m=\u001b[91m100\u001b[0m,\n",
       "            \u001b[1;38;2;232;125;62mfull_scan_threshold\u001b[0m=\u001b[91m10000\u001b[0m,\n",
       "            \u001b[1;38;2;232;125;62mmax_indexing_threads\u001b[0m=\u001b[91m0\u001b[0m,\n",
       "            \u001b[1;38;2;232;125;62mon_disk\u001b[0m=\u001b[2;37mNone\u001b[0m,\n",
       "            \u001b[1;38;2;232;125;62mpayload_m\u001b[0m=\u001b[2;37mNone\u001b[0m\n",
       "        \u001b[1m)\u001b[0m,\n",
       "        \u001b[1;38;2;232;125;62moptimizer_config\u001b[0m=\u001b[93mOptimizersConfig\u001b[0m\u001b[1m(\u001b[0m\n",
       "            \u001b[1;38;2;232;125;62mdeleted_threshold\u001b[0m=\u001b[91m0\u001b[0m\u001b[91m.2\u001b[0m,\n",
       "            \u001b[1;38;2;232;125;62mvacuum_min_vector_number\u001b[0m=\u001b[91m1000\u001b[0m,\n",
       "            \u001b[1;38;2;232;125;62mdefault_segment_number\u001b[0m=\u001b[91m0\u001b[0m,\n",
       "            \u001b[1;38;2;232;125;62mmax_segment_size\u001b[0m=\u001b[2;37mNone\u001b[0m,\n",
       "            \u001b[1;38;2;232;125;62mmemmap_threshold\u001b[0m=\u001b[2;37mNone\u001b[0m,\n",
       "            \u001b[1;38;2;232;125;62mindexing_threshold\u001b[0m=\u001b[91m20000\u001b[0m,\n",
       "            \u001b[1;38;2;232;125;62mflush_interval_sec\u001b[0m=\u001b[91m5\u001b[0m,\n",
       "            \u001b[1;38;2;232;125;62mmax_optimization_threads\u001b[0m=\u001b[91m1\u001b[0m\n",
       "        \u001b[1m)\u001b[0m,\n",
       "        \u001b[1;38;2;232;125;62mwal_config\u001b[0m=\u001b[93mWalConfig\u001b[0m\u001b[1m(\u001b[0m\u001b[1;38;2;232;125;62mwal_capacity_mb\u001b[0m=\u001b[91m32\u001b[0m, \u001b[1;38;2;232;125;62mwal_segments_ahead\u001b[0m=\u001b[91m0\u001b[0m\u001b[1m)\u001b[0m,\n",
       "        \u001b[1;38;2;232;125;62mquantization_config\u001b[0m=\u001b[2;37mNone\u001b[0m\n",
       "    \u001b[1m)\u001b[0m,\n",
       "    \u001b[1;38;2;232;125;62mpayload_schema\u001b[0m=\u001b[1m{\u001b[0m\u001b[1m}\u001b[0m\n",
       "\u001b[1m)\u001b[0m\n"
      ]
     },
     "metadata": {},
     "output_type": "display_data"
    }
   ],
   "source": [
    "console.print(qdrant.get_collection(collection_name=collection_name))"
   ]
  },
  {
   "cell_type": "markdown",
   "metadata": {},
   "source": [
    "## **R**etrieve sematically relevant data based on user's query\n",
    "\n",
    "Once the data is loaded into the vector database and the indexing process is done, we can start using our simple RAG system."
   ]
  },
  {
   "cell_type": "code",
   "execution_count": 12,
   "metadata": {},
   "outputs": [],
   "source": [
    "user_prompt = \"Suggest me an amazing Malbec wine from Argentina\""
   ]
  },
  {
   "cell_type": "markdown",
   "metadata": {},
   "source": [
    "### Encoding the user's query\n",
    "\n",
    "We will use the same encoder that we used to encode the document data to encode the query of the user. \n",
    "This way we can search results based on semantic similarity. "
   ]
  },
  {
   "cell_type": "code",
   "execution_count": 13,
   "metadata": {},
   "outputs": [],
   "source": [
    "query_vector = encoder.encode(user_prompt).tolist()"
   ]
  },
  {
   "cell_type": "markdown",
   "metadata": {},
   "source": [
    "### Search similar rows\n",
    "\n",
    "We can now take the embedding encoding of the user's query and use it to find similar rows in the vector database."
   ]
  },
  {
   "cell_type": "code",
   "execution_count": 25,
   "metadata": {},
   "outputs": [],
   "source": [
    "# Search time for awesome wines!\n",
    "\n",
    "hits = qdrant.search(\n",
    "    collection_name=collection_name,\n",
    "    query_vector=query_vector,\n",
    "    limit=5\n",
    ")"
   ]
  },
  {
   "cell_type": "code",
   "execution_count": 27,
   "metadata": {},
   "outputs": [
    {
     "data": {
      "text/html": [
       "<pre style=\"white-space:pre;overflow-x:auto;line-height:normal;font-family:Menlo,'DejaVu Sans Mono',consolas,'Courier New',monospace\"><span style=\"font-style: italic\">                                                 Retrieval Results                                                 </span>\n",
       "┏━━━━━━━━━━━━━━━━━━━━━━━━━━━┳━━━━━━━━━━━━━━━━━━━━━━━━━━━━┳━━━━━━━━━━┳━━━━━━━━┳━━━━━━━━━━━━━━━━━━━━━━━━━━━┳━━━━━━━━┓\n",
       "┃<span style=\"font-weight: bold\"> Name                      </span>┃<span style=\"font-weight: bold\"> Region                     </span>┃<span style=\"font-weight: bold\"> Variety  </span>┃<span style=\"font-weight: bold\"> Rating </span>┃<span style=\"font-weight: bold\"> Notes                     </span>┃<span style=\"font-weight: bold\"> Score  </span>┃\n",
       "┡━━━━━━━━━━━━━━━━━━━━━━━━━━━╇━━━━━━━━━━━━━━━━━━━━━━━━━━━━╇━━━━━━━━━━╇━━━━━━━━╇━━━━━━━━━━━━━━━━━━━━━━━━━━━╇━━━━━━━━┩\n",
       "│<span style=\"color: #e0e0e0; text-decoration-color: #e0e0e0\"> Catena Zapata Argentino   </span>│<span style=\"color: #ff0000; text-decoration-color: #ff0000\"> Argentina                  </span>│<span style=\"color: #008000; text-decoration-color: #008000\"> Red Wine </span>│<span style=\"color: #808000; text-decoration-color: #808000\"> 98.0   </span>│<span style=\"color: #89ddff; text-decoration-color: #89ddff\"> \"The single-vineyard 2004 </span>│<span style=\"color: #a6accd; text-decoration-color: #a6accd\"> 0.6378 </span>│\n",
       "│<span style=\"color: #e0e0e0; text-decoration-color: #e0e0e0\"> Vineyard Malbec 2004      </span>│<span style=\"color: #ff0000; text-decoration-color: #ff0000\">                            </span>│<span style=\"color: #008000; text-decoration-color: #008000\">          </span>│<span style=\"color: #808000; text-decoration-color: #808000\">        </span>│<span style=\"color: #89ddff; text-decoration-color: #89ddff\"> Malbec Argentino          </span>│<span style=\"color: #a6accd; text-decoration-color: #a6accd\">        </span>│\n",
       "│<span style=\"color: #e0e0e0; text-decoration-color: #e0e0e0\">                           </span>│<span style=\"color: #ff0000; text-decoration-color: #ff0000\">                            </span>│<span style=\"color: #008000; text-decoration-color: #008000\">          </span>│<span style=\"color: #808000; text-decoration-color: #808000\">        </span>│<span style=\"color: #89ddff; text-decoration-color: #89ddff\"> Vineyar...                </span>│<span style=\"color: #a6accd; text-decoration-color: #a6accd\">        </span>│\n",
       "├───────────────────────────┼────────────────────────────┼──────────┼────────┼───────────────────────────┼────────┤\n",
       "│<span style=\"color: #e0e0e0; text-decoration-color: #e0e0e0\"> Bodega Colome Altura      </span>│<span style=\"color: #ff0000; text-decoration-color: #ff0000\"> Salta, Argentina           </span>│<span style=\"color: #008000; text-decoration-color: #008000\"> Red Wine </span>│<span style=\"color: #808000; text-decoration-color: #808000\"> 96.0   </span>│<span style=\"color: #89ddff; text-decoration-color: #89ddff\"> Winemaker Thibaut         </span>│<span style=\"color: #a6accd; text-decoration-color: #a6accd\"> 0.6180 </span>│\n",
       "│<span style=\"color: #e0e0e0; text-decoration-color: #e0e0e0\"> Maxima Malbec 2012        </span>│<span style=\"color: #ff0000; text-decoration-color: #ff0000\">                            </span>│<span style=\"color: #008000; text-decoration-color: #008000\">          </span>│<span style=\"color: #808000; text-decoration-color: #808000\">        </span>│<span style=\"color: #89ddff; text-decoration-color: #89ddff\"> Delmotte has crafted      </span>│<span style=\"color: #a6accd; text-decoration-color: #a6accd\">        </span>│\n",
       "│<span style=\"color: #e0e0e0; text-decoration-color: #e0e0e0\">                           </span>│<span style=\"color: #ff0000; text-decoration-color: #ff0000\">                            </span>│<span style=\"color: #008000; text-decoration-color: #008000\">          </span>│<span style=\"color: #808000; text-decoration-color: #808000\">        </span>│<span style=\"color: #89ddff; text-decoration-color: #89ddff\"> wines of di...            </span>│<span style=\"color: #a6accd; text-decoration-color: #a6accd\">        </span>│\n",
       "├───────────────────────────┼────────────────────────────┼──────────┼────────┼───────────────────────────┼────────┤\n",
       "│<span style=\"color: #e0e0e0; text-decoration-color: #e0e0e0\"> Catena Zapata Adrianna    </span>│<span style=\"color: #ff0000; text-decoration-color: #ff0000\"> Argentina                  </span>│<span style=\"color: #008000; text-decoration-color: #008000\"> Red Wine </span>│<span style=\"color: #808000; text-decoration-color: #808000\"> 97.0   </span>│<span style=\"color: #89ddff; text-decoration-color: #89ddff\"> \"The single-vineyard 2004 </span>│<span style=\"color: #a6accd; text-decoration-color: #a6accd\"> 0.6118 </span>│\n",
       "│<span style=\"color: #e0e0e0; text-decoration-color: #e0e0e0\"> Vineyard Malbec 2004      </span>│<span style=\"color: #ff0000; text-decoration-color: #ff0000\">                            </span>│<span style=\"color: #008000; text-decoration-color: #008000\">          </span>│<span style=\"color: #808000; text-decoration-color: #808000\">        </span>│<span style=\"color: #89ddff; text-decoration-color: #89ddff\"> Malbec Adrianna           </span>│<span style=\"color: #a6accd; text-decoration-color: #a6accd\">        </span>│\n",
       "│<span style=\"color: #e0e0e0; text-decoration-color: #e0e0e0\">                           </span>│<span style=\"color: #ff0000; text-decoration-color: #ff0000\">                            </span>│<span style=\"color: #008000; text-decoration-color: #008000\">          </span>│<span style=\"color: #808000; text-decoration-color: #808000\">        </span>│<span style=\"color: #89ddff; text-decoration-color: #89ddff\"> Vineyard...               </span>│<span style=\"color: #a6accd; text-decoration-color: #a6accd\">        </span>│\n",
       "├───────────────────────────┼────────────────────────────┼──────────┼────────┼───────────────────────────┼────────┤\n",
       "│<span style=\"color: #e0e0e0; text-decoration-color: #e0e0e0\"> Catena Zapata Nicasia     </span>│<span style=\"color: #ff0000; text-decoration-color: #ff0000\"> Argentina                  </span>│<span style=\"color: #008000; text-decoration-color: #008000\"> Red Wine </span>│<span style=\"color: #808000; text-decoration-color: #808000\"> 96.0   </span>│<span style=\"color: #89ddff; text-decoration-color: #89ddff\"> \"The single-vineyard 2004 </span>│<span style=\"color: #a6accd; text-decoration-color: #a6accd\"> 0.6113 </span>│\n",
       "│<span style=\"color: #e0e0e0; text-decoration-color: #e0e0e0\"> Vineyard Malbec 2004      </span>│<span style=\"color: #ff0000; text-decoration-color: #ff0000\">                            </span>│<span style=\"color: #008000; text-decoration-color: #008000\">          </span>│<span style=\"color: #808000; text-decoration-color: #808000\">        </span>│<span style=\"color: #89ddff; text-decoration-color: #89ddff\"> Malbec Nicasia Vineyard   </span>│<span style=\"color: #a6accd; text-decoration-color: #a6accd\">        </span>│\n",
       "│<span style=\"color: #e0e0e0; text-decoration-color: #e0e0e0\">                           </span>│<span style=\"color: #ff0000; text-decoration-color: #ff0000\">                            </span>│<span style=\"color: #008000; text-decoration-color: #008000\">          </span>│<span style=\"color: #808000; text-decoration-color: #808000\">        </span>│<span style=\"color: #89ddff; text-decoration-color: #89ddff\"> ...                       </span>│<span style=\"color: #a6accd; text-decoration-color: #a6accd\">        </span>│\n",
       "├───────────────────────────┼────────────────────────────┼──────────┼────────┼───────────────────────────┼────────┤\n",
       "│<span style=\"color: #e0e0e0; text-decoration-color: #e0e0e0\"> Altos las Hormigas        </span>│<span style=\"color: #ff0000; text-decoration-color: #ff0000\"> Uco Valley, Mendoza,       </span>│<span style=\"color: #008000; text-decoration-color: #008000\"> Red Wine </span>│<span style=\"color: #808000; text-decoration-color: #808000\"> 96.0   </span>│<span style=\"color: #89ddff; text-decoration-color: #89ddff\"> A solid violet red color  </span>│<span style=\"color: #a6accd; text-decoration-color: #a6accd\"> 0.6056 </span>│\n",
       "│<span style=\"color: #e0e0e0; text-decoration-color: #e0e0e0\"> Gualtallary Malbec 2016   </span>│<span style=\"color: #ff0000; text-decoration-color: #ff0000\"> Argentina                  </span>│<span style=\"color: #008000; text-decoration-color: #008000\">          </span>│<span style=\"color: #808000; text-decoration-color: #808000\">        </span>│<span style=\"color: #89ddff; text-decoration-color: #89ddff\"> reveals a dense,          </span>│<span style=\"color: #a6accd; text-decoration-color: #a6accd\">        </span>│\n",
       "│<span style=\"color: #e0e0e0; text-decoration-color: #e0e0e0\">                           </span>│<span style=\"color: #ff0000; text-decoration-color: #ff0000\">                            </span>│<span style=\"color: #008000; text-decoration-color: #008000\">          </span>│<span style=\"color: #808000; text-decoration-color: #808000\">        </span>│<span style=\"color: #89ddff; text-decoration-color: #89ddff\"> concentr...               </span>│<span style=\"color: #a6accd; text-decoration-color: #a6accd\">        </span>│\n",
       "└───────────────────────────┴────────────────────────────┴──────────┴────────┴───────────────────────────┴────────┘\n",
       "</pre>\n"
      ],
      "text/plain": [
       "\u001b[3m                                                 Retrieval Results                                                 \u001b[0m\n",
       "┏━━━━━━━━━━━━━━━━━━━━━━━━━━━┳━━━━━━━━━━━━━━━━━━━━━━━━━━━━┳━━━━━━━━━━┳━━━━━━━━┳━━━━━━━━━━━━━━━━━━━━━━━━━━━┳━━━━━━━━┓\n",
       "┃\u001b[1m \u001b[0m\u001b[1mName                     \u001b[0m\u001b[1m \u001b[0m┃\u001b[1m \u001b[0m\u001b[1mRegion                    \u001b[0m\u001b[1m \u001b[0m┃\u001b[1m \u001b[0m\u001b[1mVariety \u001b[0m\u001b[1m \u001b[0m┃\u001b[1m \u001b[0m\u001b[1mRating\u001b[0m\u001b[1m \u001b[0m┃\u001b[1m \u001b[0m\u001b[1mNotes                    \u001b[0m\u001b[1m \u001b[0m┃\u001b[1m \u001b[0m\u001b[1mScore \u001b[0m\u001b[1m \u001b[0m┃\n",
       "┡━━━━━━━━━━━━━━━━━━━━━━━━━━━╇━━━━━━━━━━━━━━━━━━━━━━━━━━━━╇━━━━━━━━━━╇━━━━━━━━╇━━━━━━━━━━━━━━━━━━━━━━━━━━━╇━━━━━━━━┩\n",
       "│\u001b[38;2;224;224;224m \u001b[0m\u001b[38;2;224;224;224mCatena Zapata Argentino  \u001b[0m\u001b[38;2;224;224;224m \u001b[0m│\u001b[91m \u001b[0m\u001b[91mArgentina                 \u001b[0m\u001b[91m \u001b[0m│\u001b[32m \u001b[0m\u001b[32mRed Wine\u001b[0m\u001b[32m \u001b[0m│\u001b[33m \u001b[0m\u001b[33m98.0  \u001b[0m\u001b[33m \u001b[0m│\u001b[38;2;137;221;255m \u001b[0m\u001b[38;2;137;221;255m\"The single-vineyard 2004\u001b[0m\u001b[38;2;137;221;255m \u001b[0m│\u001b[38;2;166;172;205m \u001b[0m\u001b[38;2;166;172;205m0.6378\u001b[0m\u001b[38;2;166;172;205m \u001b[0m│\n",
       "│\u001b[38;2;224;224;224m \u001b[0m\u001b[38;2;224;224;224mVineyard Malbec 2004     \u001b[0m\u001b[38;2;224;224;224m \u001b[0m│\u001b[91m                            \u001b[0m│\u001b[32m          \u001b[0m│\u001b[33m        \u001b[0m│\u001b[38;2;137;221;255m \u001b[0m\u001b[38;2;137;221;255mMalbec Argentino         \u001b[0m\u001b[38;2;137;221;255m \u001b[0m│\u001b[38;2;166;172;205m        \u001b[0m│\n",
       "│\u001b[38;2;224;224;224m                           \u001b[0m│\u001b[91m                            \u001b[0m│\u001b[32m          \u001b[0m│\u001b[33m        \u001b[0m│\u001b[38;2;137;221;255m \u001b[0m\u001b[38;2;137;221;255mVineyar...               \u001b[0m\u001b[38;2;137;221;255m \u001b[0m│\u001b[38;2;166;172;205m        \u001b[0m│\n",
       "├───────────────────────────┼────────────────────────────┼──────────┼────────┼───────────────────────────┼────────┤\n",
       "│\u001b[38;2;224;224;224m \u001b[0m\u001b[38;2;224;224;224mBodega Colome Altura     \u001b[0m\u001b[38;2;224;224;224m \u001b[0m│\u001b[91m \u001b[0m\u001b[91mSalta, Argentina          \u001b[0m\u001b[91m \u001b[0m│\u001b[32m \u001b[0m\u001b[32mRed Wine\u001b[0m\u001b[32m \u001b[0m│\u001b[33m \u001b[0m\u001b[33m96.0  \u001b[0m\u001b[33m \u001b[0m│\u001b[38;2;137;221;255m \u001b[0m\u001b[38;2;137;221;255mWinemaker Thibaut        \u001b[0m\u001b[38;2;137;221;255m \u001b[0m│\u001b[38;2;166;172;205m \u001b[0m\u001b[38;2;166;172;205m0.6180\u001b[0m\u001b[38;2;166;172;205m \u001b[0m│\n",
       "│\u001b[38;2;224;224;224m \u001b[0m\u001b[38;2;224;224;224mMaxima Malbec 2012       \u001b[0m\u001b[38;2;224;224;224m \u001b[0m│\u001b[91m                            \u001b[0m│\u001b[32m          \u001b[0m│\u001b[33m        \u001b[0m│\u001b[38;2;137;221;255m \u001b[0m\u001b[38;2;137;221;255mDelmotte has crafted     \u001b[0m\u001b[38;2;137;221;255m \u001b[0m│\u001b[38;2;166;172;205m        \u001b[0m│\n",
       "│\u001b[38;2;224;224;224m                           \u001b[0m│\u001b[91m                            \u001b[0m│\u001b[32m          \u001b[0m│\u001b[33m        \u001b[0m│\u001b[38;2;137;221;255m \u001b[0m\u001b[38;2;137;221;255mwines of di...           \u001b[0m\u001b[38;2;137;221;255m \u001b[0m│\u001b[38;2;166;172;205m        \u001b[0m│\n",
       "├───────────────────────────┼────────────────────────────┼──────────┼────────┼───────────────────────────┼────────┤\n",
       "│\u001b[38;2;224;224;224m \u001b[0m\u001b[38;2;224;224;224mCatena Zapata Adrianna   \u001b[0m\u001b[38;2;224;224;224m \u001b[0m│\u001b[91m \u001b[0m\u001b[91mArgentina                 \u001b[0m\u001b[91m \u001b[0m│\u001b[32m \u001b[0m\u001b[32mRed Wine\u001b[0m\u001b[32m \u001b[0m│\u001b[33m \u001b[0m\u001b[33m97.0  \u001b[0m\u001b[33m \u001b[0m│\u001b[38;2;137;221;255m \u001b[0m\u001b[38;2;137;221;255m\"The single-vineyard 2004\u001b[0m\u001b[38;2;137;221;255m \u001b[0m│\u001b[38;2;166;172;205m \u001b[0m\u001b[38;2;166;172;205m0.6118\u001b[0m\u001b[38;2;166;172;205m \u001b[0m│\n",
       "│\u001b[38;2;224;224;224m \u001b[0m\u001b[38;2;224;224;224mVineyard Malbec 2004     \u001b[0m\u001b[38;2;224;224;224m \u001b[0m│\u001b[91m                            \u001b[0m│\u001b[32m          \u001b[0m│\u001b[33m        \u001b[0m│\u001b[38;2;137;221;255m \u001b[0m\u001b[38;2;137;221;255mMalbec Adrianna          \u001b[0m\u001b[38;2;137;221;255m \u001b[0m│\u001b[38;2;166;172;205m        \u001b[0m│\n",
       "│\u001b[38;2;224;224;224m                           \u001b[0m│\u001b[91m                            \u001b[0m│\u001b[32m          \u001b[0m│\u001b[33m        \u001b[0m│\u001b[38;2;137;221;255m \u001b[0m\u001b[38;2;137;221;255mVineyard...              \u001b[0m\u001b[38;2;137;221;255m \u001b[0m│\u001b[38;2;166;172;205m        \u001b[0m│\n",
       "├───────────────────────────┼────────────────────────────┼──────────┼────────┼───────────────────────────┼────────┤\n",
       "│\u001b[38;2;224;224;224m \u001b[0m\u001b[38;2;224;224;224mCatena Zapata Nicasia    \u001b[0m\u001b[38;2;224;224;224m \u001b[0m│\u001b[91m \u001b[0m\u001b[91mArgentina                 \u001b[0m\u001b[91m \u001b[0m│\u001b[32m \u001b[0m\u001b[32mRed Wine\u001b[0m\u001b[32m \u001b[0m│\u001b[33m \u001b[0m\u001b[33m96.0  \u001b[0m\u001b[33m \u001b[0m│\u001b[38;2;137;221;255m \u001b[0m\u001b[38;2;137;221;255m\"The single-vineyard 2004\u001b[0m\u001b[38;2;137;221;255m \u001b[0m│\u001b[38;2;166;172;205m \u001b[0m\u001b[38;2;166;172;205m0.6113\u001b[0m\u001b[38;2;166;172;205m \u001b[0m│\n",
       "│\u001b[38;2;224;224;224m \u001b[0m\u001b[38;2;224;224;224mVineyard Malbec 2004     \u001b[0m\u001b[38;2;224;224;224m \u001b[0m│\u001b[91m                            \u001b[0m│\u001b[32m          \u001b[0m│\u001b[33m        \u001b[0m│\u001b[38;2;137;221;255m \u001b[0m\u001b[38;2;137;221;255mMalbec Nicasia Vineyard  \u001b[0m\u001b[38;2;137;221;255m \u001b[0m│\u001b[38;2;166;172;205m        \u001b[0m│\n",
       "│\u001b[38;2;224;224;224m                           \u001b[0m│\u001b[91m                            \u001b[0m│\u001b[32m          \u001b[0m│\u001b[33m        \u001b[0m│\u001b[38;2;137;221;255m \u001b[0m\u001b[38;2;137;221;255m...                      \u001b[0m\u001b[38;2;137;221;255m \u001b[0m│\u001b[38;2;166;172;205m        \u001b[0m│\n",
       "├───────────────────────────┼────────────────────────────┼──────────┼────────┼───────────────────────────┼────────┤\n",
       "│\u001b[38;2;224;224;224m \u001b[0m\u001b[38;2;224;224;224mAltos las Hormigas       \u001b[0m\u001b[38;2;224;224;224m \u001b[0m│\u001b[91m \u001b[0m\u001b[91mUco Valley, Mendoza,      \u001b[0m\u001b[91m \u001b[0m│\u001b[32m \u001b[0m\u001b[32mRed Wine\u001b[0m\u001b[32m \u001b[0m│\u001b[33m \u001b[0m\u001b[33m96.0  \u001b[0m\u001b[33m \u001b[0m│\u001b[38;2;137;221;255m \u001b[0m\u001b[38;2;137;221;255mA solid violet red color \u001b[0m\u001b[38;2;137;221;255m \u001b[0m│\u001b[38;2;166;172;205m \u001b[0m\u001b[38;2;166;172;205m0.6056\u001b[0m\u001b[38;2;166;172;205m \u001b[0m│\n",
       "│\u001b[38;2;224;224;224m \u001b[0m\u001b[38;2;224;224;224mGualtallary Malbec 2016  \u001b[0m\u001b[38;2;224;224;224m \u001b[0m│\u001b[91m \u001b[0m\u001b[91mArgentina                 \u001b[0m\u001b[91m \u001b[0m│\u001b[32m          \u001b[0m│\u001b[33m        \u001b[0m│\u001b[38;2;137;221;255m \u001b[0m\u001b[38;2;137;221;255mreveals a dense,         \u001b[0m\u001b[38;2;137;221;255m \u001b[0m│\u001b[38;2;166;172;205m        \u001b[0m│\n",
       "│\u001b[38;2;224;224;224m                           \u001b[0m│\u001b[91m                            \u001b[0m│\u001b[32m          \u001b[0m│\u001b[33m        \u001b[0m│\u001b[38;2;137;221;255m \u001b[0m\u001b[38;2;137;221;255mconcentr...              \u001b[0m\u001b[38;2;137;221;255m \u001b[0m│\u001b[38;2;166;172;205m        \u001b[0m│\n",
       "└───────────────────────────┴────────────────────────────┴──────────┴────────┴───────────────────────────┴────────┘\n"
      ]
     },
     "metadata": {},
     "output_type": "display_data"
    }
   ],
   "source": [
    "from rich.console import Console\n",
    "from rich.text import Text\n",
    "from rich.table import Table\n",
    "\n",
    "table = Table(title=\"Retrieval Results\", show_lines=True)\n",
    "\n",
    "table.add_column(\"Name\", style=\"#e0e0e0\")\n",
    "table.add_column(\"Region\", style=\"bright_red\")\n",
    "table.add_column(\"Variety\", style=\"green\")\n",
    "table.add_column(\"Rating\", style=\"yellow\")\n",
    "table.add_column(\"Notes\", style=\"#89ddff\")\n",
    "table.add_column(\"Score\", style=\"#a6accd\")\n",
    "\n",
    "for hit in hits:\n",
    "    table.add_row(\n",
    "        hit.payload[\"name\"],\n",
    "        hit.payload[\"region\"],\n",
    "        hit.payload[\"variety\"],\n",
    "        str(hit.payload[\"rating\"]),\n",
    "        f'{hit.payload[\"notes\"][:50]}...',\n",
    "        f\"{hit.score:.4f}\"\n",
    "    )\n",
    "\n",
    "console.print(table)"
   ]
  },
  {
   "cell_type": "markdown",
   "metadata": {},
   "source": [
    "## **A**ugment the prompt to the LLM with retrieved data\n",
    "\n",
    "In our simple example, we will simply take the top 3 results and use them as is in the prompt to the generation LLM."
   ]
  },
  {
   "cell_type": "markdown",
   "metadata": {},
   "source": [
    "## **G**enerate reply to the user's query\n",
    "\n",
    "We will use one of the most popular generative AI LLMs from [OpenAI](https://platform.openai.com/docs/models). "
   ]
  },
  {
   "cell_type": "code",
   "execution_count": 18,
   "metadata": {},
   "outputs": [
    {
     "data": {
      "text/plain": [
       "True"
      ]
     },
     "execution_count": 18,
     "metadata": {},
     "output_type": "execute_result"
    }
   ],
   "source": [
    "from dotenv import load_dotenv\n",
    "\n",
    "load_dotenv()"
   ]
  },
  {
   "cell_type": "markdown",
   "metadata": {},
   "source": [
    "### First let's try without **R**etrieval\n",
    "\n",
    "We can ask the LLM to recommend based only on the user prompt."
   ]
  },
  {
   "cell_type": "code",
   "execution_count": 28,
   "metadata": {},
   "outputs": [
    {
     "data": {
      "text/html": [
       "<pre style=\"white-space:pre;overflow-x:auto;line-height:normal;font-family:Menlo,'DejaVu Sans Mono',consolas,'Courier New',monospace\"><span style=\"color: #008000; text-decoration-color: #008000; font-weight: bold\">╭───────────────────────────────────── Wine Recommendation without Retrieval ─────────────────────────────────────╮</span>\n",
       "<span style=\"color: #008000; text-decoration-color: #008000; font-weight: bold\">│</span>                                                                                                                 <span style=\"color: #008000; text-decoration-color: #008000; font-weight: bold\">│</span>\n",
       "<span style=\"color: #008000; text-decoration-color: #008000; font-weight: bold\">│</span> 1. Catena Zapata Malbec: This is a highly regarded Malbec from Mendoza, Argentina. It offers a bold and intense <span style=\"color: #008000; text-decoration-color: #008000; font-weight: bold\">│</span>\n",
       "<span style=\"color: #008000; text-decoration-color: #008000; font-weight: bold\">│</span> flavor profile with notes of dark fruits, cocoa, and spices. The Catena Zapata Malbec is well-structured with a <span style=\"color: #008000; text-decoration-color: #008000; font-weight: bold\">│</span>\n",
       "<span style=\"color: #008000; text-decoration-color: #008000; font-weight: bold\">│</span> velvety texture.                                                                                                <span style=\"color: #008000; text-decoration-color: #008000; font-weight: bold\">│</span>\n",
       "<span style=\"color: #008000; text-decoration-color: #008000; font-weight: bold\">│</span>                                                                                                                 <span style=\"color: #008000; text-decoration-color: #008000; font-weight: bold\">│</span>\n",
       "<span style=\"color: #008000; text-decoration-color: #008000; font-weight: bold\">│</span> 2. Achaval-Ferrer Malbec: Another fantastic option from Argentina, this Malbec is known for its rich and        <span style=\"color: #008000; text-decoration-color: #008000; font-weight: bold\">│</span>\n",
       "<span style=\"color: #008000; text-decoration-color: #008000; font-weight: bold\">│</span> complex flavors of blackberries, plums, and hints of vanilla. It has a smooth and elegant finish that lingers   <span style=\"color: #008000; text-decoration-color: #008000; font-weight: bold\">│</span>\n",
       "<span style=\"color: #008000; text-decoration-color: #008000; font-weight: bold\">│</span> on the palate.                                                                                                  <span style=\"color: #008000; text-decoration-color: #008000; font-weight: bold\">│</span>\n",
       "<span style=\"color: #008000; text-decoration-color: #008000; font-weight: bold\">│</span>                                                                                                                 <span style=\"color: #008000; text-decoration-color: #008000; font-weight: bold\">│</span>\n",
       "<span style=\"color: #008000; text-decoration-color: #008000; font-weight: bold\">│</span> 3. Luca Malbec: Luca Malbec is a top-quality Malbec from Uco Valley, Argentina. It displays a wonderful balance <span style=\"color: #008000; text-decoration-color: #008000; font-weight: bold\">│</span>\n",
       "<span style=\"color: #008000; text-decoration-color: #008000; font-weight: bold\">│</span> of ripe fruit flavors, subtle oak influence, and a touch of floral notes. This Malbec is full-bodied with a     <span style=\"color: #008000; text-decoration-color: #008000; font-weight: bold\">│</span>\n",
       "<span style=\"color: #008000; text-decoration-color: #008000; font-weight: bold\">│</span> long, satisfying finish.                                                                                        <span style=\"color: #008000; text-decoration-color: #008000; font-weight: bold\">│</span>\n",
       "<span style=\"color: #008000; text-decoration-color: #008000; font-weight: bold\">│</span>                                                                                                                 <span style=\"color: #008000; text-decoration-color: #008000; font-weight: bold\">│</span>\n",
       "<span style=\"color: #008000; text-decoration-color: #008000; font-weight: bold\">│</span> Each of these Malbec wines offers a unique expression of the grape variety and the terroir of Argentina. I      <span style=\"color: #008000; text-decoration-color: #008000; font-weight: bold\">│</span>\n",
       "<span style=\"color: #008000; text-decoration-color: #008000; font-weight: bold\">│</span> recommend trying them to experience the diversity and quality of Malbec wines from this region.                 <span style=\"color: #008000; text-decoration-color: #008000; font-weight: bold\">│</span>\n",
       "<span style=\"color: #008000; text-decoration-color: #008000; font-weight: bold\">│</span>                                                                                                                 <span style=\"color: #008000; text-decoration-color: #008000; font-weight: bold\">│</span>\n",
       "<span style=\"color: #008000; text-decoration-color: #008000; font-weight: bold\">╰─────────────────────────────────────────────────────────────────────────────────────────────────────────────────╯</span>\n",
       "</pre>\n"
      ],
      "text/plain": [
       "\u001b[1;32m╭─\u001b[0m\u001b[1;32m────────────────────────────────────\u001b[0m\u001b[1;32m Wine Recommendation without Retrieval \u001b[0m\u001b[1;32m────────────────────────────────────\u001b[0m\u001b[1;32m─╮\u001b[0m\n",
       "\u001b[1;32m│\u001b[0m                                                                                                                 \u001b[1;32m│\u001b[0m\n",
       "\u001b[1;32m│\u001b[0m 1. Catena Zapata Malbec: This is a highly regarded Malbec from Mendoza, Argentina. It offers a bold and intense \u001b[1;32m│\u001b[0m\n",
       "\u001b[1;32m│\u001b[0m flavor profile with notes of dark fruits, cocoa, and spices. The Catena Zapata Malbec is well-structured with a \u001b[1;32m│\u001b[0m\n",
       "\u001b[1;32m│\u001b[0m velvety texture.                                                                                                \u001b[1;32m│\u001b[0m\n",
       "\u001b[1;32m│\u001b[0m                                                                                                                 \u001b[1;32m│\u001b[0m\n",
       "\u001b[1;32m│\u001b[0m 2. Achaval-Ferrer Malbec: Another fantastic option from Argentina, this Malbec is known for its rich and        \u001b[1;32m│\u001b[0m\n",
       "\u001b[1;32m│\u001b[0m complex flavors of blackberries, plums, and hints of vanilla. It has a smooth and elegant finish that lingers   \u001b[1;32m│\u001b[0m\n",
       "\u001b[1;32m│\u001b[0m on the palate.                                                                                                  \u001b[1;32m│\u001b[0m\n",
       "\u001b[1;32m│\u001b[0m                                                                                                                 \u001b[1;32m│\u001b[0m\n",
       "\u001b[1;32m│\u001b[0m 3. Luca Malbec: Luca Malbec is a top-quality Malbec from Uco Valley, Argentina. It displays a wonderful balance \u001b[1;32m│\u001b[0m\n",
       "\u001b[1;32m│\u001b[0m of ripe fruit flavors, subtle oak influence, and a touch of floral notes. This Malbec is full-bodied with a     \u001b[1;32m│\u001b[0m\n",
       "\u001b[1;32m│\u001b[0m long, satisfying finish.                                                                                        \u001b[1;32m│\u001b[0m\n",
       "\u001b[1;32m│\u001b[0m                                                                                                                 \u001b[1;32m│\u001b[0m\n",
       "\u001b[1;32m│\u001b[0m Each of these Malbec wines offers a unique expression of the grape variety and the terroir of Argentina. I      \u001b[1;32m│\u001b[0m\n",
       "\u001b[1;32m│\u001b[0m recommend trying them to experience the diversity and quality of Malbec wines from this region.                 \u001b[1;32m│\u001b[0m\n",
       "\u001b[1;32m│\u001b[0m                                                                                                                 \u001b[1;32m│\u001b[0m\n",
       "\u001b[1;32m╰─────────────────────────────────────────────────────────────────────────────────────────────────────────────────╯\u001b[0m\n"
      ]
     },
     "metadata": {},
     "output_type": "display_data"
    }
   ],
   "source": [
    "# Now time to connect to the large language model\n",
    "from openai import OpenAI\n",
    "from rich.panel import Panel\n",
    "\n",
    "client = OpenAI()\n",
    "completion = client.chat.completions.create(\n",
    "    model=\"gpt-3.5-turbo\",\n",
    "    messages=[\n",
    "        {\"role\": \"system\", \"content\": \"You are chatbot, a wine specialist. Your top priority is to help guide users into selecting amazing wine and guide them with their requests. Always suggest three and explain the differences between them.\"},\n",
    "        {\"role\": \"user\", \"content\": user_prompt},\n",
    "        {\"role\": \"assistant\", \"content\": \"Here is my wine recommendation:\"}\n",
    "    ]\n",
    ")\n",
    "\n",
    "response_text = Text(completion.choices[0].message.content)\n",
    "styled_panel = Panel(\n",
    "    response_text,\n",
    "    title=\"Wine Recommendation without Retrieval\",\n",
    "    expand=False,\n",
    "    border_style=\"bold green\",\n",
    "    padding=(1, 1)\n",
    ")\n",
    "\n",
    "console.print(styled_panel)"
   ]
  },
  {
   "cell_type": "markdown",
   "metadata": {},
   "source": [
    "### Now, add **R**etrieval Results\n",
    "\n",
    "The recommendation sounds great, however, we don't have this wine in our inventory and menu. Moreover, new wines may be newly available that were not part of the pre-training of the LLM.\n",
    "\n",
    "We will run the same query with the **R**trieval results and get better recommendations for our business needs. "
   ]
  },
  {
   "cell_type": "code",
   "execution_count": 26,
   "metadata": {},
   "outputs": [
    {
     "name": "stdout",
     "output_type": "stream",
     "text": [
      "[{'name': 'Catena Zapata Argentino Vineyard Malbec 2004', 'region': 'Argentina', 'variety': 'Red Wine', 'rating': 98.0, 'notes': '\"The single-vineyard 2004 Malbec Argentino Vineyard spent 17 months in new French oak. Remarkably fragrant and complex aromatically, it offers up aromas of wood smoke, creosote, pepper, clove, black cherry, and blackberry. Made in a similar, elegant style, it is the most structured of the three single vineyard wines, needing a minimum of a decade of additional cellaring. It should easily prove to be a 25-40 year wine. It is an exceptional achievement in Malbec. When all is said and done, Catena Zapata is the Argentina winery of reference – the standard of excellence for comparing all others. The brilliant, forward-thinking Nicolas Catena remains in charge, with his daughter, Laura, playing an increasingly large role. The Catena Zapata winery is an essential destination for fans of both architecture and wine in Mendoza. It is hard to believe, given the surge in popularity of Malbec in recent years, that Catena Zapata only began exporting Malbec to the United States in 1994.\"'}, {'name': 'Bodega Colome Altura Maxima Malbec 2012', 'region': 'Salta, Argentina', 'variety': 'Red Wine', 'rating': 96.0, 'notes': 'Winemaker Thibaut Delmotte has crafted wines of distinction and international acclaim for Colome. He believes the Malbec from Altura Maxima Vineyard is the embodiment of two extremes - a traditional grape variety from his French origins made from the vineyard that challenges all convention in the modern viticultural world.'}, {'name': 'Catena Zapata Adrianna Vineyard Malbec 2004', 'region': 'Argentina', 'variety': 'Red Wine', 'rating': 97.0, 'notes': '\"The single-vineyard 2004 Malbec Adrianna Vineyard from the Gualtallary district is inky purple with aromas of wood smoke, pencil lead, game, black cherry, and blackberry liqueur. Opulent, full-flavored, yet remarkably light on its feet, this medium to full-bodied Malbec is all about pleasure. It will certainly evolve for a decade but is hard to resist now. It is a fine test of one\\'s ability to defer immediate gratification. When all is said and done, Catena Zapata is the Argentina winery of reference – the standard of excellence for comparing all others. The brilliant, forward-thinking Nicolas Catena remains in charge, with his daughter, Laura, playing an increasingly large role. The Catena Zapata winery is an essential destination for fans of both architecture and wine in Mendoza. It is hard to believe, given the surge in popularity of Malbec in recent years, that Catena Zapata only began exporting Malbec to the United States in 1994.\"'}, {'name': 'Catena Zapata Nicasia Vineyard Malbec 2004', 'region': 'Argentina', 'variety': 'Red Wine', 'rating': 96.0, 'notes': '\"The single-vineyard 2004 Malbec Nicasia Vineyard is located in the Altamira district of Mendoza. It was aged for 18 months in new French oak. Opaque purple-colored, it exhibits a complex perfume of pain grille, scorched earth, mineral, licorice, blueberry, and black cherry. Thick on the palate, bordering on opulent, it has layers of fruit, silky tannins, and a long, fruit-filled finish. It will age effortlessly for another 6-8 years and provide pleasure through 2025. When all is said and done, Catena Zapata is the Argentina winery of reference – the standard of excellence for comparing all others. The brilliant, forward-thinking Nicolas Catena remains in charge, with his daughter, Laura, playing an increasingly large role. The Catena Zapata winery is an essential destination for fans of both architecture and wine in Mendoza. It is hard to believe, given the surge in popularity of Malbec in recent years, that Catena Zapata only began exporting Malbec to the United States in 1994.\"'}, {'name': 'Altos las Hormigas Gualtallary Malbec 2016', 'region': 'Uco Valley, Mendoza, Argentina', 'variety': 'Red Wine', 'rating': 96.0, 'notes': 'A solid violet red color reveals a dense, concentrated, compact wine. Notes of spices and minerality make a complex nose. On the palate, a supple entry, dark berries and spices. A very structured and quite wild Malbec, with firm fine-grain tannins, showing its calcareous foundations and columns. The mouth feel is full of thrilling freshness and balance, with a long and persistent finish.'}]\n"
     ]
    }
   ],
   "source": [
    "# define a variable to hold the search results\n",
    "search_results = [hit.payload for hit in hits]\n",
    "print(search_results)"
   ]
  },
  {
   "cell_type": "code",
   "execution_count": 29,
   "metadata": {},
   "outputs": [
    {
     "data": {
      "text/html": [
       "<pre style=\"white-space:pre;overflow-x:auto;line-height:normal;font-family:Menlo,'DejaVu Sans Mono',consolas,'Courier New',monospace\"><span style=\"color: #008000; text-decoration-color: #008000; font-weight: bold\">╭────────────────────────────────────── Wine Recommendation with Retrieval ───────────────────────────────────────╮</span>\n",
       "<span style=\"color: #008000; text-decoration-color: #008000; font-weight: bold\">│</span>                                                                                                                 <span style=\"color: #008000; text-decoration-color: #008000; font-weight: bold\">│</span>\n",
       "<span style=\"color: #008000; text-decoration-color: #008000; font-weight: bold\">│</span> Here are three amazing Malbec wines from Argentina that you may enjoy:                                          <span style=\"color: #008000; text-decoration-color: #008000; font-weight: bold\">│</span>\n",
       "<span style=\"color: #008000; text-decoration-color: #008000; font-weight: bold\">│</span>                                                                                                                 <span style=\"color: #008000; text-decoration-color: #008000; font-weight: bold\">│</span>\n",
       "<span style=\"color: #008000; text-decoration-color: #008000; font-weight: bold\">│</span> 1. **Catena Zapata Argentino Vineyard Malbec 2004** - This wine received a rating of 98.0 and is highly         <span style=\"color: #008000; text-decoration-color: #008000; font-weight: bold\">│</span>\n",
       "<span style=\"color: #008000; text-decoration-color: #008000; font-weight: bold\">│</span> acclaimed for its aromas of black cherry, blackberry, and elegant structure. It spent 17 months in new French   <span style=\"color: #008000; text-decoration-color: #008000; font-weight: bold\">│</span>\n",
       "<span style=\"color: #008000; text-decoration-color: #008000; font-weight: bold\">│</span> oak, offering complexity and a long aging potential.                                                            <span style=\"color: #008000; text-decoration-color: #008000; font-weight: bold\">│</span>\n",
       "<span style=\"color: #008000; text-decoration-color: #008000; font-weight: bold\">│</span>                                                                                                                 <span style=\"color: #008000; text-decoration-color: #008000; font-weight: bold\">│</span>\n",
       "<span style=\"color: #008000; text-decoration-color: #008000; font-weight: bold\">│</span> 2. **Bodega Colome Altura Maxima Malbec 2012** - A Malbec from Salta, Argentina, with a rating of 96.0, crafted <span style=\"color: #008000; text-decoration-color: #008000; font-weight: bold\">│</span>\n",
       "<span style=\"color: #008000; text-decoration-color: #008000; font-weight: bold\">│</span> by winemaker Thibaut Delmotte. This wine embodies two extremes, showcasing a traditional grape variety in a     <span style=\"color: #008000; text-decoration-color: #008000; font-weight: bold\">│</span>\n",
       "<span style=\"color: #008000; text-decoration-color: #008000; font-weight: bold\">│</span> vineyard that challenges conventions, resulting in a wine of distinction.                                       <span style=\"color: #008000; text-decoration-color: #008000; font-weight: bold\">│</span>\n",
       "<span style=\"color: #008000; text-decoration-color: #008000; font-weight: bold\">│</span>                                                                                                                 <span style=\"color: #008000; text-decoration-color: #008000; font-weight: bold\">│</span>\n",
       "<span style=\"color: #008000; text-decoration-color: #008000; font-weight: bold\">│</span> 3. **Catena Zapata Adrianna Vineyard Malbec 2004** - Rated 97.0, this single-vineyard Malbec from the           <span style=\"color: #008000; text-decoration-color: #008000; font-weight: bold\">│</span>\n",
       "<span style=\"color: #008000; text-decoration-color: #008000; font-weight: bold\">│</span> Gualtallary district exhibits aromas of black cherry, blackberry liqueur, and a balance of opulence and         <span style=\"color: #008000; text-decoration-color: #008000; font-weight: bold\">│</span>\n",
       "<span style=\"color: #008000; text-decoration-color: #008000; font-weight: bold\">│</span> elegance. With the potential for aging but also enjoyable now, it offers a pleasurable tasting experience.      <span style=\"color: #008000; text-decoration-color: #008000; font-weight: bold\">│</span>\n",
       "<span style=\"color: #008000; text-decoration-color: #008000; font-weight: bold\">│</span>                                                                                                                 <span style=\"color: #008000; text-decoration-color: #008000; font-weight: bold\">│</span>\n",
       "<span style=\"color: #008000; text-decoration-color: #008000; font-weight: bold\">│</span> Each of these Malbec wines showcases unique characteristics, from aroma profiles to aging potential, allowing   <span style=\"color: #008000; text-decoration-color: #008000; font-weight: bold\">│</span>\n",
       "<span style=\"color: #008000; text-decoration-color: #008000; font-weight: bold\">│</span> you to explore various styles and expressions of this beloved Argentine varietal. Enjoy your journey into the   <span style=\"color: #008000; text-decoration-color: #008000; font-weight: bold\">│</span>\n",
       "<span style=\"color: #008000; text-decoration-color: #008000; font-weight: bold\">│</span> world of Malbec!                                                                                                <span style=\"color: #008000; text-decoration-color: #008000; font-weight: bold\">│</span>\n",
       "<span style=\"color: #008000; text-decoration-color: #008000; font-weight: bold\">│</span>                                                                                                                 <span style=\"color: #008000; text-decoration-color: #008000; font-weight: bold\">│</span>\n",
       "<span style=\"color: #008000; text-decoration-color: #008000; font-weight: bold\">╰─────────────────────────────────────────────────────────────────────────────────────────────────────────────────╯</span>\n",
       "</pre>\n"
      ],
      "text/plain": [
       "\u001b[1;32m╭─\u001b[0m\u001b[1;32m─────────────────────────────────────\u001b[0m\u001b[1;32m Wine Recommendation with Retrieval \u001b[0m\u001b[1;32m──────────────────────────────────────\u001b[0m\u001b[1;32m─╮\u001b[0m\n",
       "\u001b[1;32m│\u001b[0m                                                                                                                 \u001b[1;32m│\u001b[0m\n",
       "\u001b[1;32m│\u001b[0m Here are three amazing Malbec wines from Argentina that you may enjoy:                                          \u001b[1;32m│\u001b[0m\n",
       "\u001b[1;32m│\u001b[0m                                                                                                                 \u001b[1;32m│\u001b[0m\n",
       "\u001b[1;32m│\u001b[0m 1. **Catena Zapata Argentino Vineyard Malbec 2004** - This wine received a rating of 98.0 and is highly         \u001b[1;32m│\u001b[0m\n",
       "\u001b[1;32m│\u001b[0m acclaimed for its aromas of black cherry, blackberry, and elegant structure. It spent 17 months in new French   \u001b[1;32m│\u001b[0m\n",
       "\u001b[1;32m│\u001b[0m oak, offering complexity and a long aging potential.                                                            \u001b[1;32m│\u001b[0m\n",
       "\u001b[1;32m│\u001b[0m                                                                                                                 \u001b[1;32m│\u001b[0m\n",
       "\u001b[1;32m│\u001b[0m 2. **Bodega Colome Altura Maxima Malbec 2012** - A Malbec from Salta, Argentina, with a rating of 96.0, crafted \u001b[1;32m│\u001b[0m\n",
       "\u001b[1;32m│\u001b[0m by winemaker Thibaut Delmotte. This wine embodies two extremes, showcasing a traditional grape variety in a     \u001b[1;32m│\u001b[0m\n",
       "\u001b[1;32m│\u001b[0m vineyard that challenges conventions, resulting in a wine of distinction.                                       \u001b[1;32m│\u001b[0m\n",
       "\u001b[1;32m│\u001b[0m                                                                                                                 \u001b[1;32m│\u001b[0m\n",
       "\u001b[1;32m│\u001b[0m 3. **Catena Zapata Adrianna Vineyard Malbec 2004** - Rated 97.0, this single-vineyard Malbec from the           \u001b[1;32m│\u001b[0m\n",
       "\u001b[1;32m│\u001b[0m Gualtallary district exhibits aromas of black cherry, blackberry liqueur, and a balance of opulence and         \u001b[1;32m│\u001b[0m\n",
       "\u001b[1;32m│\u001b[0m elegance. With the potential for aging but also enjoyable now, it offers a pleasurable tasting experience.      \u001b[1;32m│\u001b[0m\n",
       "\u001b[1;32m│\u001b[0m                                                                                                                 \u001b[1;32m│\u001b[0m\n",
       "\u001b[1;32m│\u001b[0m Each of these Malbec wines showcases unique characteristics, from aroma profiles to aging potential, allowing   \u001b[1;32m│\u001b[0m\n",
       "\u001b[1;32m│\u001b[0m you to explore various styles and expressions of this beloved Argentine varietal. Enjoy your journey into the   \u001b[1;32m│\u001b[0m\n",
       "\u001b[1;32m│\u001b[0m world of Malbec!                                                                                                \u001b[1;32m│\u001b[0m\n",
       "\u001b[1;32m│\u001b[0m                                                                                                                 \u001b[1;32m│\u001b[0m\n",
       "\u001b[1;32m╰─────────────────────────────────────────────────────────────────────────────────────────────────────────────────╯\u001b[0m\n"
      ]
     },
     "metadata": {},
     "output_type": "display_data"
    }
   ],
   "source": [
    "completion = client.chat.completions.create(\n",
    "    model=\"gpt-3.5-turbo\",\n",
    "    messages=[\n",
    "        {\"role\": \"system\", \"content\": \"You are chatbot, a wine specialist. Your top priority is to help guide users into selecting amazing wine and guide them with their requests.  Always suggest three and explain the differences between them. Use the provided context to inform your recommendations.\"},\n",
    "        {\"role\": \"user\", \"content\": user_prompt},\n",
    "        {\"role\": \"assistant\", \"content\": str(search_results)}\n",
    "    ]\n",
    ")\n",
    "\n",
    "response_text = Text(completion.choices[0].message.content)\n",
    "styled_panel = Panel(\n",
    "    response_text,\n",
    "    title=\"Wine Recommendation with Retrieval\",\n",
    "    expand=False,\n",
    "    border_style=\"bold green\",\n",
    "    padding=(1, 1)\n",
    ")\n",
    "\n",
    "console.print(styled_panel)"
   ]
  },
  {
   "cell_type": "code",
   "execution_count": null,
   "metadata": {},
   "outputs": [],
   "source": []
  }
 ],
 "metadata": {
  "kernelspec": {
   "display_name": "Python 3",
   "language": "python",
   "name": "python3"
  },
  "language_info": {
   "codemirror_mode": {
    "name": "ipython",
    "version": 3
   },
   "file_extension": ".py",
   "mimetype": "text/x-python",
   "name": "python",
   "nbconvert_exporter": "python",
   "pygments_lexer": "ipython3",
   "version": "3.12.4"
  }
 },
 "nbformat": 4,
 "nbformat_minor": 2
}
