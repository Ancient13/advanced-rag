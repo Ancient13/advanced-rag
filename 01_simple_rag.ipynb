{
 "cells": [
  {
   "cell_type": "markdown",
   "metadata": {},
   "source": [
    "# Simple RAG Implementation\n",
    "\n",
    "Based on [Alfredo Deza's GitHub Repository](https://github.com/alfredodeza/learn-retrieval-augmented-generation).\n",
    "\n",
    "In this notebook we will build a simple RAG application based on a structured CSV file with wine rating. We will:\n",
    "* [Load the small dataset](#loading-the-dataset).\n",
    "* [Encode a column using vector embedding](#Encode-using-vector-embedding).\n",
    "* [**R**etrieve some of the rows based on a query using semantic similarity](#retrieve-sematically-relevant-data-based-on-users-query).\n",
    "* [**A**ugment the prompt to the LLM with the retrieved data](#augment-the-prompt-to-the-llm-with-retrieved-data).\n",
    "* [**G**enerate a reply to the user's query based on the retrieved rows](#generate-reply-to-the-users-query)."
   ]
  },
  {
   "cell_type": "markdown",
   "metadata": {},
   "source": [
    "### Visual improvements\n",
    "\n",
    "We will use [rich library](https://github.com/Textualize/rich) to make the output more readable, and supress warning messages."
   ]
  },
  {
   "cell_type": "code",
   "execution_count": 1,
   "metadata": {},
   "outputs": [
    {
     "name": "stdout",
     "output_type": "stream",
     "text": [
      "Overwriting rich_theme.py\n"
     ]
    }
   ],
   "source": [
    "%%writefile rich_theme.py\n",
    "from rich.theme import Theme\n",
    "\n",
    "custom_theme = Theme({\n",
    "    \"repr.own\": \"bright_yellow\",            # Class names\n",
    "    \"repr.tag_name\": \"bright_yellow\",       # Adjust tag names which might still be purple\n",
    "    \"repr.call\": \"bright_yellow\",           # Function calls and other symbols\n",
    "    \"repr.str\": \"bright_green\",             # String representation\n",
    "    \"repr.number\": \"bright_red\",            # Numbers\n",
    "    \"repr.none\": \"bright_blue\",             # None\n",
    "    \"repr.attrib_name\": \"bright_yellow\",    # Attribute names\n",
    "    \"repr.attrib_value\": \"bright_blue\"      # Attribute values\n",
    "})\n",
    "\n"
   ]
  },
  {
   "cell_type": "code",
   "execution_count": 2,
   "metadata": {},
   "outputs": [],
   "source": [
    "from rich.console import Console\n",
    "from rich_theme import custom_theme\n",
    "\n",
    "# Create a console with the dark theme\n",
    "console = Console(theme=custom_theme)\n"
   ]
  },
  {
   "cell_type": "code",
   "execution_count": null,
   "metadata": {},
   "outputs": [],
   "source": [
    "import warnings\n",
    "\n",
    "# Suppress warnings\n",
    "warnings.filterwarnings('ignore')"
   ]
  },
  {
   "cell_type": "markdown",
   "metadata": {},
   "source": [
    "## Loading the Dataset\n",
    "\n",
    "Since the data is in a simple, small and structured CSV file, we can load it using Pandas."
   ]
  },
  {
   "cell_type": "code",
   "execution_count": 4,
   "metadata": {},
   "outputs": [
    {
     "data": {
      "text/html": [
       "<pre style=\"white-space:pre;overflow-x:auto;line-height:normal;font-family:Menlo,'DejaVu Sans Mono',consolas,'Courier New',monospace\"><span style=\"font-weight: bold\">[</span>\n",
       "    <span style=\"font-weight: bold\">{</span>\n",
       "        <span style=\"color: #00ff00; text-decoration-color: #00ff00\">'name'</span>: <span style=\"color: #00ff00; text-decoration-color: #00ff00\">'3 Rings Reserve Shiraz 2004'</span>,\n",
       "        <span style=\"color: #00ff00; text-decoration-color: #00ff00\">'region'</span>: <span style=\"color: #00ff00; text-decoration-color: #00ff00\">'Barossa Valley, Barossa, South Australia, Australia'</span>,\n",
       "        <span style=\"color: #00ff00; text-decoration-color: #00ff00\">'variety'</span>: <span style=\"color: #00ff00; text-decoration-color: #00ff00\">'Red Wine'</span>,\n",
       "        <span style=\"color: #00ff00; text-decoration-color: #00ff00\">'rating'</span>: <span style=\"color: #ff0000; text-decoration-color: #ff0000\">96.0</span>,\n",
       "        <span style=\"color: #00ff00; text-decoration-color: #00ff00\">'notes'</span>: <span style=\"color: #00ff00; text-decoration-color: #00ff00\">'Vintage Comments : Classic Barossa vintage conditions. An average wet Spring followed by extreme </span>\n",
       "<span style=\"color: #00ff00; text-decoration-color: #00ff00\">heat in early February. Occasional rainfall events kept the vines in good balance up to harvest in late March 2004.</span>\n",
       "<span style=\"color: #00ff00; text-decoration-color: #00ff00\">Very good quality coupled with good average yields. More than 30 months in wood followed by six months tank </span>\n",
       "<span style=\"color: #00ff00; text-decoration-color: #00ff00\">maturation of the blend prior to bottling, July 2007. '</span>\n",
       "    <span style=\"font-weight: bold\">}</span>,\n",
       "    <span style=\"font-weight: bold\">{</span>\n",
       "        <span style=\"color: #00ff00; text-decoration-color: #00ff00\">'name'</span>: <span style=\"color: #00ff00; text-decoration-color: #00ff00\">'Abreu Vineyards Cappella 2007'</span>,\n",
       "        <span style=\"color: #00ff00; text-decoration-color: #00ff00\">'region'</span>: <span style=\"color: #00ff00; text-decoration-color: #00ff00\">'Napa Valley, California'</span>,\n",
       "        <span style=\"color: #00ff00; text-decoration-color: #00ff00\">'variety'</span>: <span style=\"color: #00ff00; text-decoration-color: #00ff00\">'Red Wine'</span>,\n",
       "        <span style=\"color: #00ff00; text-decoration-color: #00ff00\">'rating'</span>: <span style=\"color: #ff0000; text-decoration-color: #ff0000\">96.0</span>,\n",
       "        <span style=\"color: #00ff00; text-decoration-color: #00ff00\">'notes'</span>: <span style=\"color: #00ff00; text-decoration-color: #00ff00\">'Cappella is a proprietary blend of two clones of Cabernet Sauvignon with Cabernet Franc, Petit </span>\n",
       "<span style=\"color: #00ff00; text-decoration-color: #00ff00\">Verdot and Merlot. The gravelly soil at Cappella produces fruit that is very elegant in structure. The resulting </span>\n",
       "<span style=\"color: #00ff00; text-decoration-color: #00ff00\">wine exhibits beautiful purity of fruit with fine grained and lengthy tannins. '</span>\n",
       "    <span style=\"font-weight: bold\">}</span>\n",
       "<span style=\"font-weight: bold\">]</span>\n",
       "</pre>\n"
      ],
      "text/plain": [
       "\u001b[1m[\u001b[0m\n",
       "    \u001b[1m{\u001b[0m\n",
       "        \u001b[92m'name'\u001b[0m: \u001b[92m'3 Rings Reserve Shiraz 2004'\u001b[0m,\n",
       "        \u001b[92m'region'\u001b[0m: \u001b[92m'Barossa Valley, Barossa, South Australia, Australia'\u001b[0m,\n",
       "        \u001b[92m'variety'\u001b[0m: \u001b[92m'Red Wine'\u001b[0m,\n",
       "        \u001b[92m'rating'\u001b[0m: \u001b[91m96.0\u001b[0m,\n",
       "        \u001b[92m'notes'\u001b[0m: \u001b[92m'Vintage Comments : Classic Barossa vintage conditions. An average wet Spring followed by extreme \u001b[0m\n",
       "\u001b[92mheat in early February. Occasional rainfall events kept the vines in good balance up to harvest in late March 2004.\u001b[0m\n",
       "\u001b[92mVery good quality coupled with good average yields. More than 30 months in wood followed by six months tank \u001b[0m\n",
       "\u001b[92mmaturation of the blend prior to bottling, July 2007. '\u001b[0m\n",
       "    \u001b[1m}\u001b[0m,\n",
       "    \u001b[1m{\u001b[0m\n",
       "        \u001b[92m'name'\u001b[0m: \u001b[92m'Abreu Vineyards Cappella 2007'\u001b[0m,\n",
       "        \u001b[92m'region'\u001b[0m: \u001b[92m'Napa Valley, California'\u001b[0m,\n",
       "        \u001b[92m'variety'\u001b[0m: \u001b[92m'Red Wine'\u001b[0m,\n",
       "        \u001b[92m'rating'\u001b[0m: \u001b[91m96.0\u001b[0m,\n",
       "        \u001b[92m'notes'\u001b[0m: \u001b[92m'Cappella is a proprietary blend of two clones of Cabernet Sauvignon with Cabernet Franc, Petit \u001b[0m\n",
       "\u001b[92mVerdot and Merlot. The gravelly soil at Cappella produces fruit that is very elegant in structure. The resulting \u001b[0m\n",
       "\u001b[92mwine exhibits beautiful purity of fruit with fine grained and lengthy tannins. '\u001b[0m\n",
       "    \u001b[1m}\u001b[0m\n",
       "\u001b[1m]\u001b[0m\n"
      ]
     },
     "metadata": {},
     "output_type": "display_data"
    }
   ],
   "source": [
    "import pandas as pd\n",
    "\n",
    "data = (\n",
    "    pd\n",
    "    .read_csv('data/top_rated_wines.csv')\n",
    "    .query('variety.notna()')\n",
    "    .reset_index(drop=True)\n",
    "    .to_dict('records')\n",
    ")\n",
    "console.print(data[:2])"
   ]
  },
  {
   "cell_type": "markdown",
   "metadata": {},
   "source": [
    "## Encode using Vector Embedding\n",
    "\n",
    "We will use one of the popular open source vector databases, [Qdrant](https://qdrant.tech/), and one of the popular embedding encoder and text transformer libraries, [SentenceTransformer](https://sbert.net/)."
   ]
  },
  {
   "cell_type": "code",
   "execution_count": 5,
   "metadata": {},
   "outputs": [],
   "source": [
    "from qdrant_client import models, QdrantClient\n",
    "from sentence_transformers import SentenceTransformer\n",
    "\n",
    "# create the vector database client\n",
    "qdrant = QdrantClient(\":memory:\") # Create in-memory Qdrant instance\n",
    "\n",
    "# Create the embedding encoder\n",
    "encoder = SentenceTransformer('all-MiniLM-L6-v2') # Model to create embeddings"
   ]
  },
  {
   "cell_type": "code",
   "execution_count": 6,
   "metadata": {},
   "outputs": [
    {
     "data": {
      "text/plain": [
       "True"
      ]
     },
     "execution_count": 6,
     "metadata": {},
     "output_type": "execute_result"
    }
   ],
   "source": [
    "# Create collection to store the wine rating data\n",
    "collection_name=\"top_wines\"\n",
    "\n",
    "qdrant.recreate_collection(\n",
    "    collection_name=collection_name,\n",
    "    vectors_config=models.VectorParams(\n",
    "        size=encoder.get_sentence_embedding_dimension(), # Vector size is defined by used model\n",
    "        distance=models.Distance.COSINE\n",
    "    )\n",
    ")"
   ]
  },
  {
   "cell_type": "markdown",
   "metadata": {},
   "source": [
    "### Loading the data into the vector database\n",
    "\n",
    "We will use the (vector) collection that we created above, to go over all the `notes` column of the wine dataset, and encode it into embedding vector, and store it in the vector database. The indexing of the data to allow quick retrieval is running in the background as we load it.\n",
    "\n",
    "This step will take a few seconds (less than a minute on my laptop)."
   ]
  },
  {
   "cell_type": "code",
   "execution_count": 7,
   "metadata": {},
   "outputs": [],
   "source": [
    "# vectorize!\n",
    "qdrant.upload_points(\n",
    "    collection_name=collection_name,\n",
    "    points=[\n",
    "        models.PointStruct(\n",
    "            id=idx,\n",
    "            vector=encoder.encode(doc[\"notes\"]).tolist(),\n",
    "            payload=doc\n",
    "        ) for idx, doc in enumerate(data) # data is the variable holding all the wines\n",
    "    ]\n",
    ")"
   ]
  },
  {
   "cell_type": "code",
   "execution_count": 8,
   "metadata": {},
   "outputs": [
    {
     "data": {
      "text/html": [
       "<pre style=\"white-space:pre;overflow-x:auto;line-height:normal;font-family:Menlo,'DejaVu Sans Mono',consolas,'Courier New',monospace\"><span style=\"color: #ffff00; text-decoration-color: #ffff00\">CollectionInfo</span><span style=\"font-weight: bold\">(</span>\n",
       "    <span style=\"color: #ffff00; text-decoration-color: #ffff00\">status</span>=<span style=\"font-weight: bold\">&lt;</span><span style=\"color: #ffff00; text-decoration-color: #ffff00\">CollectionStatus.GREEN:</span><span style=\"color: #000000; text-decoration-color: #000000\"> </span><span style=\"color: #00ff00; text-decoration-color: #00ff00\">'green'</span><span style=\"color: #000000; text-decoration-color: #000000\">&gt;,</span>\n",
       "<span style=\"color: #000000; text-decoration-color: #000000\">    </span><span style=\"color: #ffff00; text-decoration-color: #ffff00\">optimizer_status</span><span style=\"color: #000000; text-decoration-color: #000000\">=&lt;OptimizersStatusOneOf.OK: </span><span style=\"color: #00ff00; text-decoration-color: #00ff00\">'ok'</span><span style=\"color: #000000; text-decoration-color: #000000\">&gt;,</span>\n",
       "<span style=\"color: #000000; text-decoration-color: #000000\">    </span><span style=\"color: #ffff00; text-decoration-color: #ffff00\">vectors_count</span><span style=\"color: #000000; text-decoration-color: #000000\">=</span><span style=\"color: #0000ff; text-decoration-color: #0000ff\">None</span><span style=\"color: #000000; text-decoration-color: #000000\">,</span>\n",
       "<span style=\"color: #000000; text-decoration-color: #000000\">    </span><span style=\"color: #ffff00; text-decoration-color: #ffff00\">indexed_vectors_count</span><span style=\"color: #000000; text-decoration-color: #000000\">=</span><span style=\"color: #ff0000; text-decoration-color: #ff0000\">0</span><span style=\"color: #000000; text-decoration-color: #000000\">,</span>\n",
       "<span style=\"color: #000000; text-decoration-color: #000000\">    </span><span style=\"color: #ffff00; text-decoration-color: #ffff00\">points_count</span><span style=\"color: #000000; text-decoration-color: #000000\">=</span><span style=\"color: #ff0000; text-decoration-color: #ff0000\">1347</span><span style=\"color: #000000; text-decoration-color: #000000\">,</span>\n",
       "<span style=\"color: #000000; text-decoration-color: #000000\">    </span><span style=\"color: #ffff00; text-decoration-color: #ffff00\">segments_count</span><span style=\"color: #000000; text-decoration-color: #000000\">=</span><span style=\"color: #ff0000; text-decoration-color: #ff0000\">1</span><span style=\"color: #000000; text-decoration-color: #000000\">,</span>\n",
       "<span style=\"color: #000000; text-decoration-color: #000000\">    </span><span style=\"color: #ffff00; text-decoration-color: #ffff00\">config</span><span style=\"color: #000000; text-decoration-color: #000000\">=</span><span style=\"color: #ffff00; text-decoration-color: #ffff00\">CollectionConfig</span><span style=\"color: #000000; text-decoration-color: #000000; font-weight: bold\">(</span>\n",
       "<span style=\"color: #000000; text-decoration-color: #000000\">        </span><span style=\"color: #ffff00; text-decoration-color: #ffff00\">params</span><span style=\"color: #000000; text-decoration-color: #000000\">=</span><span style=\"color: #ffff00; text-decoration-color: #ffff00\">CollectionParams</span><span style=\"color: #000000; text-decoration-color: #000000; font-weight: bold\">(</span>\n",
       "<span style=\"color: #000000; text-decoration-color: #000000\">            </span><span style=\"color: #ffff00; text-decoration-color: #ffff00\">vectors</span><span style=\"color: #000000; text-decoration-color: #000000\">=</span><span style=\"color: #ffff00; text-decoration-color: #ffff00\">VectorParams</span><span style=\"color: #000000; text-decoration-color: #000000; font-weight: bold\">(</span>\n",
       "<span style=\"color: #000000; text-decoration-color: #000000\">                </span><span style=\"color: #ffff00; text-decoration-color: #ffff00\">size</span><span style=\"color: #000000; text-decoration-color: #000000\">=</span><span style=\"color: #ff0000; text-decoration-color: #ff0000\">384</span><span style=\"color: #000000; text-decoration-color: #000000\">,</span>\n",
       "<span style=\"color: #000000; text-decoration-color: #000000\">                </span><span style=\"color: #ffff00; text-decoration-color: #ffff00\">distance</span><span style=\"color: #000000; text-decoration-color: #000000\">=&lt;Distance.COSINE: </span><span style=\"color: #00ff00; text-decoration-color: #00ff00\">'Cosine'</span><span style=\"font-weight: bold\">&gt;</span>,\n",
       "                <span style=\"color: #ffff00; text-decoration-color: #ffff00\">hnsw_config</span>=<span style=\"color: #0000ff; text-decoration-color: #0000ff\">None</span>,\n",
       "                <span style=\"color: #ffff00; text-decoration-color: #ffff00\">quantization_config</span>=<span style=\"color: #0000ff; text-decoration-color: #0000ff\">None</span>,\n",
       "                <span style=\"color: #ffff00; text-decoration-color: #ffff00\">on_disk</span>=<span style=\"color: #0000ff; text-decoration-color: #0000ff\">None</span>,\n",
       "                <span style=\"color: #ffff00; text-decoration-color: #ffff00\">datatype</span>=<span style=\"color: #0000ff; text-decoration-color: #0000ff\">None</span>,\n",
       "                <span style=\"color: #ffff00; text-decoration-color: #ffff00\">multivector_config</span>=<span style=\"color: #0000ff; text-decoration-color: #0000ff\">None</span>\n",
       "            <span style=\"font-weight: bold\">)</span>,\n",
       "            <span style=\"color: #ffff00; text-decoration-color: #ffff00\">shard_number</span>=<span style=\"color: #0000ff; text-decoration-color: #0000ff\">None</span>,\n",
       "            <span style=\"color: #ffff00; text-decoration-color: #ffff00\">sharding_method</span>=<span style=\"color: #0000ff; text-decoration-color: #0000ff\">None</span>,\n",
       "            <span style=\"color: #ffff00; text-decoration-color: #ffff00\">replication_factor</span>=<span style=\"color: #0000ff; text-decoration-color: #0000ff\">None</span>,\n",
       "            <span style=\"color: #ffff00; text-decoration-color: #ffff00\">write_consistency_factor</span>=<span style=\"color: #0000ff; text-decoration-color: #0000ff\">None</span>,\n",
       "            <span style=\"color: #ffff00; text-decoration-color: #ffff00\">read_fan_out_factor</span>=<span style=\"color: #0000ff; text-decoration-color: #0000ff\">None</span>,\n",
       "            <span style=\"color: #ffff00; text-decoration-color: #ffff00\">on_disk_payload</span>=<span style=\"color: #0000ff; text-decoration-color: #0000ff\">None</span>,\n",
       "            <span style=\"color: #ffff00; text-decoration-color: #ffff00\">sparse_vectors</span>=<span style=\"color: #0000ff; text-decoration-color: #0000ff\">None</span>\n",
       "        <span style=\"font-weight: bold\">)</span>,\n",
       "        <span style=\"color: #ffff00; text-decoration-color: #ffff00\">hnsw_config</span>=<span style=\"color: #ffff00; text-decoration-color: #ffff00\">HnswConfig</span><span style=\"font-weight: bold\">(</span>\n",
       "            <span style=\"color: #ffff00; text-decoration-color: #ffff00\">m</span>=<span style=\"color: #ff0000; text-decoration-color: #ff0000\">16</span>,\n",
       "            <span style=\"color: #ffff00; text-decoration-color: #ffff00\">ef_construct</span>=<span style=\"color: #ff0000; text-decoration-color: #ff0000\">100</span>,\n",
       "            <span style=\"color: #ffff00; text-decoration-color: #ffff00\">full_scan_threshold</span>=<span style=\"color: #ff0000; text-decoration-color: #ff0000\">10000</span>,\n",
       "            <span style=\"color: #ffff00; text-decoration-color: #ffff00\">max_indexing_threads</span>=<span style=\"color: #ff0000; text-decoration-color: #ff0000\">0</span>,\n",
       "            <span style=\"color: #ffff00; text-decoration-color: #ffff00\">on_disk</span>=<span style=\"color: #0000ff; text-decoration-color: #0000ff\">None</span>,\n",
       "            <span style=\"color: #ffff00; text-decoration-color: #ffff00\">payload_m</span>=<span style=\"color: #0000ff; text-decoration-color: #0000ff\">None</span>\n",
       "        <span style=\"font-weight: bold\">)</span>,\n",
       "        <span style=\"color: #ffff00; text-decoration-color: #ffff00\">optimizer_config</span>=<span style=\"color: #ffff00; text-decoration-color: #ffff00\">OptimizersConfig</span><span style=\"font-weight: bold\">(</span>\n",
       "            <span style=\"color: #ffff00; text-decoration-color: #ffff00\">deleted_threshold</span>=<span style=\"color: #ff0000; text-decoration-color: #ff0000\">0.2</span>,\n",
       "            <span style=\"color: #ffff00; text-decoration-color: #ffff00\">vacuum_min_vector_number</span>=<span style=\"color: #ff0000; text-decoration-color: #ff0000\">1000</span>,\n",
       "            <span style=\"color: #ffff00; text-decoration-color: #ffff00\">default_segment_number</span>=<span style=\"color: #ff0000; text-decoration-color: #ff0000\">0</span>,\n",
       "            <span style=\"color: #ffff00; text-decoration-color: #ffff00\">max_segment_size</span>=<span style=\"color: #0000ff; text-decoration-color: #0000ff\">None</span>,\n",
       "            <span style=\"color: #ffff00; text-decoration-color: #ffff00\">memmap_threshold</span>=<span style=\"color: #0000ff; text-decoration-color: #0000ff\">None</span>,\n",
       "            <span style=\"color: #ffff00; text-decoration-color: #ffff00\">indexing_threshold</span>=<span style=\"color: #ff0000; text-decoration-color: #ff0000\">20000</span>,\n",
       "            <span style=\"color: #ffff00; text-decoration-color: #ffff00\">flush_interval_sec</span>=<span style=\"color: #ff0000; text-decoration-color: #ff0000\">5</span>,\n",
       "            <span style=\"color: #ffff00; text-decoration-color: #ffff00\">max_optimization_threads</span>=<span style=\"color: #ff0000; text-decoration-color: #ff0000\">1</span>\n",
       "        <span style=\"font-weight: bold\">)</span>,\n",
       "        <span style=\"color: #ffff00; text-decoration-color: #ffff00\">wal_config</span>=<span style=\"color: #ffff00; text-decoration-color: #ffff00\">WalConfig</span><span style=\"font-weight: bold\">(</span><span style=\"color: #ffff00; text-decoration-color: #ffff00\">wal_capacity_mb</span>=<span style=\"color: #ff0000; text-decoration-color: #ff0000\">32</span>, <span style=\"color: #ffff00; text-decoration-color: #ffff00\">wal_segments_ahead</span>=<span style=\"color: #ff0000; text-decoration-color: #ff0000\">0</span><span style=\"font-weight: bold\">)</span>,\n",
       "        <span style=\"color: #ffff00; text-decoration-color: #ffff00\">quantization_config</span>=<span style=\"color: #0000ff; text-decoration-color: #0000ff\">None</span>\n",
       "    <span style=\"font-weight: bold\">)</span>,\n",
       "    <span style=\"color: #ffff00; text-decoration-color: #ffff00\">payload_schema</span>=<span style=\"font-weight: bold\">{}</span>\n",
       "<span style=\"font-weight: bold\">)</span>\n",
       "</pre>\n"
      ],
      "text/plain": [
       "\u001b[93mCollectionInfo\u001b[0m\u001b[1m(\u001b[0m\n",
       "    \u001b[93mstatus\u001b[0m=\u001b[1m<\u001b[0m\u001b[93mCollectionStatus.GREEN:\u001b[0m\u001b[39m \u001b[0m\u001b[92m'green'\u001b[0m\u001b[39m>,\u001b[0m\n",
       "\u001b[39m    \u001b[0m\u001b[93moptimizer_status\u001b[0m\u001b[39m=<OptimizersStatusOneOf.OK: \u001b[0m\u001b[92m'ok'\u001b[0m\u001b[39m>,\u001b[0m\n",
       "\u001b[39m    \u001b[0m\u001b[93mvectors_count\u001b[0m\u001b[39m=\u001b[0m\u001b[94mNone\u001b[0m\u001b[39m,\u001b[0m\n",
       "\u001b[39m    \u001b[0m\u001b[93mindexed_vectors_count\u001b[0m\u001b[39m=\u001b[0m\u001b[91m0\u001b[0m\u001b[39m,\u001b[0m\n",
       "\u001b[39m    \u001b[0m\u001b[93mpoints_count\u001b[0m\u001b[39m=\u001b[0m\u001b[91m1347\u001b[0m\u001b[39m,\u001b[0m\n",
       "\u001b[39m    \u001b[0m\u001b[93msegments_count\u001b[0m\u001b[39m=\u001b[0m\u001b[91m1\u001b[0m\u001b[39m,\u001b[0m\n",
       "\u001b[39m    \u001b[0m\u001b[93mconfig\u001b[0m\u001b[39m=\u001b[0m\u001b[93mCollectionConfig\u001b[0m\u001b[1;39m(\u001b[0m\n",
       "\u001b[39m        \u001b[0m\u001b[93mparams\u001b[0m\u001b[39m=\u001b[0m\u001b[93mCollectionParams\u001b[0m\u001b[1;39m(\u001b[0m\n",
       "\u001b[39m            \u001b[0m\u001b[93mvectors\u001b[0m\u001b[39m=\u001b[0m\u001b[93mVectorParams\u001b[0m\u001b[1;39m(\u001b[0m\n",
       "\u001b[39m                \u001b[0m\u001b[93msize\u001b[0m\u001b[39m=\u001b[0m\u001b[91m384\u001b[0m\u001b[39m,\u001b[0m\n",
       "\u001b[39m                \u001b[0m\u001b[93mdistance\u001b[0m\u001b[39m=<Distance.COSINE: \u001b[0m\u001b[92m'Cosine'\u001b[0m\u001b[1m>\u001b[0m,\n",
       "                \u001b[93mhnsw_config\u001b[0m=\u001b[94mNone\u001b[0m,\n",
       "                \u001b[93mquantization_config\u001b[0m=\u001b[94mNone\u001b[0m,\n",
       "                \u001b[93mon_disk\u001b[0m=\u001b[94mNone\u001b[0m,\n",
       "                \u001b[93mdatatype\u001b[0m=\u001b[94mNone\u001b[0m,\n",
       "                \u001b[93mmultivector_config\u001b[0m=\u001b[94mNone\u001b[0m\n",
       "            \u001b[1m)\u001b[0m,\n",
       "            \u001b[93mshard_number\u001b[0m=\u001b[94mNone\u001b[0m,\n",
       "            \u001b[93msharding_method\u001b[0m=\u001b[94mNone\u001b[0m,\n",
       "            \u001b[93mreplication_factor\u001b[0m=\u001b[94mNone\u001b[0m,\n",
       "            \u001b[93mwrite_consistency_factor\u001b[0m=\u001b[94mNone\u001b[0m,\n",
       "            \u001b[93mread_fan_out_factor\u001b[0m=\u001b[94mNone\u001b[0m,\n",
       "            \u001b[93mon_disk_payload\u001b[0m=\u001b[94mNone\u001b[0m,\n",
       "            \u001b[93msparse_vectors\u001b[0m=\u001b[94mNone\u001b[0m\n",
       "        \u001b[1m)\u001b[0m,\n",
       "        \u001b[93mhnsw_config\u001b[0m=\u001b[93mHnswConfig\u001b[0m\u001b[1m(\u001b[0m\n",
       "            \u001b[93mm\u001b[0m=\u001b[91m16\u001b[0m,\n",
       "            \u001b[93mef_construct\u001b[0m=\u001b[91m100\u001b[0m,\n",
       "            \u001b[93mfull_scan_threshold\u001b[0m=\u001b[91m10000\u001b[0m,\n",
       "            \u001b[93mmax_indexing_threads\u001b[0m=\u001b[91m0\u001b[0m,\n",
       "            \u001b[93mon_disk\u001b[0m=\u001b[94mNone\u001b[0m,\n",
       "            \u001b[93mpayload_m\u001b[0m=\u001b[94mNone\u001b[0m\n",
       "        \u001b[1m)\u001b[0m,\n",
       "        \u001b[93moptimizer_config\u001b[0m=\u001b[93mOptimizersConfig\u001b[0m\u001b[1m(\u001b[0m\n",
       "            \u001b[93mdeleted_threshold\u001b[0m=\u001b[91m0\u001b[0m\u001b[91m.2\u001b[0m,\n",
       "            \u001b[93mvacuum_min_vector_number\u001b[0m=\u001b[91m1000\u001b[0m,\n",
       "            \u001b[93mdefault_segment_number\u001b[0m=\u001b[91m0\u001b[0m,\n",
       "            \u001b[93mmax_segment_size\u001b[0m=\u001b[94mNone\u001b[0m,\n",
       "            \u001b[93mmemmap_threshold\u001b[0m=\u001b[94mNone\u001b[0m,\n",
       "            \u001b[93mindexing_threshold\u001b[0m=\u001b[91m20000\u001b[0m,\n",
       "            \u001b[93mflush_interval_sec\u001b[0m=\u001b[91m5\u001b[0m,\n",
       "            \u001b[93mmax_optimization_threads\u001b[0m=\u001b[91m1\u001b[0m\n",
       "        \u001b[1m)\u001b[0m,\n",
       "        \u001b[93mwal_config\u001b[0m=\u001b[93mWalConfig\u001b[0m\u001b[1m(\u001b[0m\u001b[93mwal_capacity_mb\u001b[0m=\u001b[91m32\u001b[0m, \u001b[93mwal_segments_ahead\u001b[0m=\u001b[91m0\u001b[0m\u001b[1m)\u001b[0m,\n",
       "        \u001b[93mquantization_config\u001b[0m=\u001b[94mNone\u001b[0m\n",
       "    \u001b[1m)\u001b[0m,\n",
       "    \u001b[93mpayload_schema\u001b[0m=\u001b[1m{\u001b[0m\u001b[1m}\u001b[0m\n",
       "\u001b[1m)\u001b[0m\n"
      ]
     },
     "metadata": {},
     "output_type": "display_data"
    }
   ],
   "source": [
    "console.print(qdrant.get_collection(collection_name=collection_name))"
   ]
  },
  {
   "cell_type": "markdown",
   "metadata": {},
   "source": [
    "## **R**etrieve sematically relevant data based on user's query\n",
    "\n",
    "Once the data is loaded into the vector database and the indexing process is done, we can start using our simple RAG system."
   ]
  },
  {
   "cell_type": "code",
   "execution_count": 9,
   "metadata": {},
   "outputs": [],
   "source": [
    "user_prompt = \"Suggest me an amazing Malbec wine from Argentina\""
   ]
  },
  {
   "cell_type": "markdown",
   "metadata": {},
   "source": [
    "### Encoding the user's query\n",
    "\n",
    "We will use the same encoder that we used to encode the document data to encode the query of the user. \n",
    "This way we can search results based on semantic similarity. "
   ]
  },
  {
   "cell_type": "code",
   "execution_count": 10,
   "metadata": {},
   "outputs": [],
   "source": [
    "query_vector = encoder.encode(user_prompt).tolist()"
   ]
  },
  {
   "cell_type": "markdown",
   "metadata": {},
   "source": [
    "### Search similar rows\n",
    "\n",
    "We can now take the embedding encoding of the user's query and use it to find similar rows in the vector database."
   ]
  },
  {
   "cell_type": "code",
   "execution_count": 11,
   "metadata": {},
   "outputs": [],
   "source": [
    "# Search time for awesome wines!\n",
    "\n",
    "hits = qdrant.search(\n",
    "    collection_name=collection_name,\n",
    "    query_vector=query_vector,\n",
    "    limit=3\n",
    ")"
   ]
  },
  {
   "cell_type": "code",
   "execution_count": 12,
   "metadata": {},
   "outputs": [
    {
     "data": {
      "text/html": [
       "<pre style=\"white-space:pre;overflow-x:auto;line-height:normal;font-family:Menlo,'DejaVu Sans Mono',consolas,'Courier New',monospace\"><span style=\"font-style: italic\">                                                 Retrieval Results                                                 </span>\n",
       "┏━━━━━━━━━━━━━━━━━━━━━━━━━━━━━━━━┳━━━━━━━━━━━━━━━━━━┳━━━━━━━━━━┳━━━━━━━━┳━━━━━━━━━━━━━━━━━━━━━━━━━━━━━━━━┳━━━━━━━━┓\n",
       "┃<span style=\"font-weight: bold\"> Name                           </span>┃<span style=\"font-weight: bold\"> Region           </span>┃<span style=\"font-weight: bold\"> Variety  </span>┃<span style=\"font-weight: bold\"> Rating </span>┃<span style=\"font-weight: bold\"> Notes                          </span>┃<span style=\"font-weight: bold\"> Score  </span>┃\n",
       "┡━━━━━━━━━━━━━━━━━━━━━━━━━━━━━━━━╇━━━━━━━━━━━━━━━━━━╇━━━━━━━━━━╇━━━━━━━━╇━━━━━━━━━━━━━━━━━━━━━━━━━━━━━━━━╇━━━━━━━━┩\n",
       "│<span style=\"color: #e0e0e0; text-decoration-color: #e0e0e0\"> Catena Zapata Argentino        </span>│<span style=\"color: #ff0000; text-decoration-color: #ff0000\"> Argentina        </span>│<span style=\"color: #008000; text-decoration-color: #008000\"> Red Wine </span>│<span style=\"color: #808000; text-decoration-color: #808000\"> 98.0   </span>│<span style=\"color: #89ddff; text-decoration-color: #89ddff\"> \"The single-vineyard 2004      </span>│<span style=\"color: #a6accd; text-decoration-color: #a6accd\"> 0.6378 </span>│\n",
       "│<span style=\"color: #e0e0e0; text-decoration-color: #e0e0e0\"> Vineyard Malbec 2004           </span>│<span style=\"color: #ff0000; text-decoration-color: #ff0000\">                  </span>│<span style=\"color: #008000; text-decoration-color: #008000\">          </span>│<span style=\"color: #808000; text-decoration-color: #808000\">        </span>│<span style=\"color: #89ddff; text-decoration-color: #89ddff\"> Malbec Argentino Vineyar...    </span>│<span style=\"color: #a6accd; text-decoration-color: #a6accd\">        </span>│\n",
       "├────────────────────────────────┼──────────────────┼──────────┼────────┼────────────────────────────────┼────────┤\n",
       "│<span style=\"color: #e0e0e0; text-decoration-color: #e0e0e0\"> Bodega Colome Altura Maxima    </span>│<span style=\"color: #ff0000; text-decoration-color: #ff0000\"> Salta, Argentina </span>│<span style=\"color: #008000; text-decoration-color: #008000\"> Red Wine </span>│<span style=\"color: #808000; text-decoration-color: #808000\"> 96.0   </span>│<span style=\"color: #89ddff; text-decoration-color: #89ddff\"> Winemaker Thibaut Delmotte has </span>│<span style=\"color: #a6accd; text-decoration-color: #a6accd\"> 0.6180 </span>│\n",
       "│<span style=\"color: #e0e0e0; text-decoration-color: #e0e0e0\"> Malbec 2012                    </span>│<span style=\"color: #ff0000; text-decoration-color: #ff0000\">                  </span>│<span style=\"color: #008000; text-decoration-color: #008000\">          </span>│<span style=\"color: #808000; text-decoration-color: #808000\">        </span>│<span style=\"color: #89ddff; text-decoration-color: #89ddff\"> crafted wines of di...         </span>│<span style=\"color: #a6accd; text-decoration-color: #a6accd\">        </span>│\n",
       "├────────────────────────────────┼──────────────────┼──────────┼────────┼────────────────────────────────┼────────┤\n",
       "│<span style=\"color: #e0e0e0; text-decoration-color: #e0e0e0\"> Catena Zapata Adrianna         </span>│<span style=\"color: #ff0000; text-decoration-color: #ff0000\"> Argentina        </span>│<span style=\"color: #008000; text-decoration-color: #008000\"> Red Wine </span>│<span style=\"color: #808000; text-decoration-color: #808000\"> 97.0   </span>│<span style=\"color: #89ddff; text-decoration-color: #89ddff\"> \"The single-vineyard 2004      </span>│<span style=\"color: #a6accd; text-decoration-color: #a6accd\"> 0.6118 </span>│\n",
       "│<span style=\"color: #e0e0e0; text-decoration-color: #e0e0e0\"> Vineyard Malbec 2004           </span>│<span style=\"color: #ff0000; text-decoration-color: #ff0000\">                  </span>│<span style=\"color: #008000; text-decoration-color: #008000\">          </span>│<span style=\"color: #808000; text-decoration-color: #808000\">        </span>│<span style=\"color: #89ddff; text-decoration-color: #89ddff\"> Malbec Adrianna Vineyard...    </span>│<span style=\"color: #a6accd; text-decoration-color: #a6accd\">        </span>│\n",
       "└────────────────────────────────┴──────────────────┴──────────┴────────┴────────────────────────────────┴────────┘\n",
       "</pre>\n"
      ],
      "text/plain": [
       "\u001b[3m                                                 Retrieval Results                                                 \u001b[0m\n",
       "┏━━━━━━━━━━━━━━━━━━━━━━━━━━━━━━━━┳━━━━━━━━━━━━━━━━━━┳━━━━━━━━━━┳━━━━━━━━┳━━━━━━━━━━━━━━━━━━━━━━━━━━━━━━━━┳━━━━━━━━┓\n",
       "┃\u001b[1m \u001b[0m\u001b[1mName                          \u001b[0m\u001b[1m \u001b[0m┃\u001b[1m \u001b[0m\u001b[1mRegion          \u001b[0m\u001b[1m \u001b[0m┃\u001b[1m \u001b[0m\u001b[1mVariety \u001b[0m\u001b[1m \u001b[0m┃\u001b[1m \u001b[0m\u001b[1mRating\u001b[0m\u001b[1m \u001b[0m┃\u001b[1m \u001b[0m\u001b[1mNotes                         \u001b[0m\u001b[1m \u001b[0m┃\u001b[1m \u001b[0m\u001b[1mScore \u001b[0m\u001b[1m \u001b[0m┃\n",
       "┡━━━━━━━━━━━━━━━━━━━━━━━━━━━━━━━━╇━━━━━━━━━━━━━━━━━━╇━━━━━━━━━━╇━━━━━━━━╇━━━━━━━━━━━━━━━━━━━━━━━━━━━━━━━━╇━━━━━━━━┩\n",
       "│\u001b[38;2;224;224;224m \u001b[0m\u001b[38;2;224;224;224mCatena Zapata Argentino       \u001b[0m\u001b[38;2;224;224;224m \u001b[0m│\u001b[91m \u001b[0m\u001b[91mArgentina       \u001b[0m\u001b[91m \u001b[0m│\u001b[32m \u001b[0m\u001b[32mRed Wine\u001b[0m\u001b[32m \u001b[0m│\u001b[33m \u001b[0m\u001b[33m98.0  \u001b[0m\u001b[33m \u001b[0m│\u001b[38;2;137;221;255m \u001b[0m\u001b[38;2;137;221;255m\"The single-vineyard 2004     \u001b[0m\u001b[38;2;137;221;255m \u001b[0m│\u001b[38;2;166;172;205m \u001b[0m\u001b[38;2;166;172;205m0.6378\u001b[0m\u001b[38;2;166;172;205m \u001b[0m│\n",
       "│\u001b[38;2;224;224;224m \u001b[0m\u001b[38;2;224;224;224mVineyard Malbec 2004          \u001b[0m\u001b[38;2;224;224;224m \u001b[0m│\u001b[91m                  \u001b[0m│\u001b[32m          \u001b[0m│\u001b[33m        \u001b[0m│\u001b[38;2;137;221;255m \u001b[0m\u001b[38;2;137;221;255mMalbec Argentino Vineyar...   \u001b[0m\u001b[38;2;137;221;255m \u001b[0m│\u001b[38;2;166;172;205m        \u001b[0m│\n",
       "├────────────────────────────────┼──────────────────┼──────────┼────────┼────────────────────────────────┼────────┤\n",
       "│\u001b[38;2;224;224;224m \u001b[0m\u001b[38;2;224;224;224mBodega Colome Altura Maxima   \u001b[0m\u001b[38;2;224;224;224m \u001b[0m│\u001b[91m \u001b[0m\u001b[91mSalta, Argentina\u001b[0m\u001b[91m \u001b[0m│\u001b[32m \u001b[0m\u001b[32mRed Wine\u001b[0m\u001b[32m \u001b[0m│\u001b[33m \u001b[0m\u001b[33m96.0  \u001b[0m\u001b[33m \u001b[0m│\u001b[38;2;137;221;255m \u001b[0m\u001b[38;2;137;221;255mWinemaker Thibaut Delmotte has\u001b[0m\u001b[38;2;137;221;255m \u001b[0m│\u001b[38;2;166;172;205m \u001b[0m\u001b[38;2;166;172;205m0.6180\u001b[0m\u001b[38;2;166;172;205m \u001b[0m│\n",
       "│\u001b[38;2;224;224;224m \u001b[0m\u001b[38;2;224;224;224mMalbec 2012                   \u001b[0m\u001b[38;2;224;224;224m \u001b[0m│\u001b[91m                  \u001b[0m│\u001b[32m          \u001b[0m│\u001b[33m        \u001b[0m│\u001b[38;2;137;221;255m \u001b[0m\u001b[38;2;137;221;255mcrafted wines of di...        \u001b[0m\u001b[38;2;137;221;255m \u001b[0m│\u001b[38;2;166;172;205m        \u001b[0m│\n",
       "├────────────────────────────────┼──────────────────┼──────────┼────────┼────────────────────────────────┼────────┤\n",
       "│\u001b[38;2;224;224;224m \u001b[0m\u001b[38;2;224;224;224mCatena Zapata Adrianna        \u001b[0m\u001b[38;2;224;224;224m \u001b[0m│\u001b[91m \u001b[0m\u001b[91mArgentina       \u001b[0m\u001b[91m \u001b[0m│\u001b[32m \u001b[0m\u001b[32mRed Wine\u001b[0m\u001b[32m \u001b[0m│\u001b[33m \u001b[0m\u001b[33m97.0  \u001b[0m\u001b[33m \u001b[0m│\u001b[38;2;137;221;255m \u001b[0m\u001b[38;2;137;221;255m\"The single-vineyard 2004     \u001b[0m\u001b[38;2;137;221;255m \u001b[0m│\u001b[38;2;166;172;205m \u001b[0m\u001b[38;2;166;172;205m0.6118\u001b[0m\u001b[38;2;166;172;205m \u001b[0m│\n",
       "│\u001b[38;2;224;224;224m \u001b[0m\u001b[38;2;224;224;224mVineyard Malbec 2004          \u001b[0m\u001b[38;2;224;224;224m \u001b[0m│\u001b[91m                  \u001b[0m│\u001b[32m          \u001b[0m│\u001b[33m        \u001b[0m│\u001b[38;2;137;221;255m \u001b[0m\u001b[38;2;137;221;255mMalbec Adrianna Vineyard...   \u001b[0m\u001b[38;2;137;221;255m \u001b[0m│\u001b[38;2;166;172;205m        \u001b[0m│\n",
       "└────────────────────────────────┴──────────────────┴──────────┴────────┴────────────────────────────────┴────────┘\n"
      ]
     },
     "metadata": {},
     "output_type": "display_data"
    }
   ],
   "source": [
    "from rich.console import Console\n",
    "from rich.text import Text\n",
    "from rich.table import Table\n",
    "\n",
    "table = Table(title=\"Retrieval Results\", show_lines=True)\n",
    "\n",
    "table.add_column(\"Name\", style=\"#e0e0e0\")\n",
    "table.add_column(\"Region\", style=\"bright_red\")\n",
    "table.add_column(\"Variety\", style=\"green\")\n",
    "table.add_column(\"Rating\", style=\"yellow\")\n",
    "table.add_column(\"Notes\", style=\"#89ddff\")\n",
    "table.add_column(\"Score\", style=\"#a6accd\")\n",
    "\n",
    "for hit in hits:\n",
    "    table.add_row(\n",
    "        hit.payload[\"name\"],\n",
    "        hit.payload[\"region\"],\n",
    "        hit.payload[\"variety\"],\n",
    "        str(hit.payload[\"rating\"]),\n",
    "        f'{hit.payload[\"notes\"][:50]}...',\n",
    "        f\"{hit.score:.4f}\"\n",
    "    )\n",
    "\n",
    "console.print(table)"
   ]
  },
  {
   "cell_type": "markdown",
   "metadata": {},
   "source": [
    "## **A**ugment the prompt to the LLM with retrieved data\n",
    "\n",
    "In our simple example, we will simply take the top 3 results and use them as is in the prompt to the generation LLM."
   ]
  },
  {
   "cell_type": "markdown",
   "metadata": {},
   "source": [
    "## **G**enerate reply to the user's query\n",
    "\n",
    "We will use one of the most popular generative AI LLMs from [OpenAI](https://platform.openai.com/docs/models). "
   ]
  },
  {
   "cell_type": "markdown",
   "metadata": {},
   "source": [
    "### First let's try without **R**etrieval\n",
    "\n",
    "We can ask the LLM to recommend based only on the user prompt."
   ]
  },
  {
   "cell_type": "code",
   "execution_count": 13,
   "metadata": {},
   "outputs": [
    {
     "data": {
      "text/html": [
       "<pre style=\"white-space:pre;overflow-x:auto;line-height:normal;font-family:Menlo,'DejaVu Sans Mono',consolas,'Courier New',monospace\"><span style=\"color: #008000; text-decoration-color: #008000; font-weight: bold\">╭───────────────────────────────────── Wine Recommendation without Retrieval ─────────────────────────────────────╮</span>\n",
       "<span style=\"color: #008000; text-decoration-color: #008000; font-weight: bold\">│</span>                                                                                                                 <span style=\"color: #008000; text-decoration-color: #008000; font-weight: bold\">│</span>\n",
       "<span style=\"color: #008000; text-decoration-color: #008000; font-weight: bold\">│</span> Luca Malbec from the Uco Valley in Mendoza, Argentina. It offers deep flavors of blackberry, plum, and dark     <span style=\"color: #008000; text-decoration-color: #008000; font-weight: bold\">│</span>\n",
       "<span style=\"color: #008000; text-decoration-color: #008000; font-weight: bold\">│</span> chocolate with a hint of spice and a velvety smooth texture. Enjoy this delicious Malbec with grilled meats or  <span style=\"color: #008000; text-decoration-color: #008000; font-weight: bold\">│</span>\n",
       "<span style=\"color: #008000; text-decoration-color: #008000; font-weight: bold\">│</span> hearty stews. Cheers!                                                                                           <span style=\"color: #008000; text-decoration-color: #008000; font-weight: bold\">│</span>\n",
       "<span style=\"color: #008000; text-decoration-color: #008000; font-weight: bold\">│</span>                                                                                                                 <span style=\"color: #008000; text-decoration-color: #008000; font-weight: bold\">│</span>\n",
       "<span style=\"color: #008000; text-decoration-color: #008000; font-weight: bold\">╰─────────────────────────────────────────────────────────────────────────────────────────────────────────────────╯</span>\n",
       "</pre>\n"
      ],
      "text/plain": [
       "\u001b[1;32m╭─\u001b[0m\u001b[1;32m────────────────────────────────────\u001b[0m\u001b[1;32m Wine Recommendation without Retrieval \u001b[0m\u001b[1;32m────────────────────────────────────\u001b[0m\u001b[1;32m─╮\u001b[0m\n",
       "\u001b[1;32m│\u001b[0m                                                                                                                 \u001b[1;32m│\u001b[0m\n",
       "\u001b[1;32m│\u001b[0m Luca Malbec from the Uco Valley in Mendoza, Argentina. It offers deep flavors of blackberry, plum, and dark     \u001b[1;32m│\u001b[0m\n",
       "\u001b[1;32m│\u001b[0m chocolate with a hint of spice and a velvety smooth texture. Enjoy this delicious Malbec with grilled meats or  \u001b[1;32m│\u001b[0m\n",
       "\u001b[1;32m│\u001b[0m hearty stews. Cheers!                                                                                           \u001b[1;32m│\u001b[0m\n",
       "\u001b[1;32m│\u001b[0m                                                                                                                 \u001b[1;32m│\u001b[0m\n",
       "\u001b[1;32m╰─────────────────────────────────────────────────────────────────────────────────────────────────────────────────╯\u001b[0m\n"
      ]
     },
     "metadata": {},
     "output_type": "display_data"
    }
   ],
   "source": [
    "# Now time to connect to the large language model\n",
    "from openai import OpenAI\n",
    "from rich.panel import Panel\n",
    "\n",
    "client = OpenAI()\n",
    "completion = client.chat.completions.create(\n",
    "    model=\"gpt-3.5-turbo\",\n",
    "    messages=[\n",
    "        {\"role\": \"system\", \"content\": \"You are chatbot, a wine specialist. Your top priority is to help guide users into selecting amazing wine and guide them with their requests.\"},\n",
    "        {\"role\": \"user\", \"content\": user_prompt},\n",
    "        {\"role\": \"assistant\", \"content\": \"Here is my wine recommendation:\"}\n",
    "    ]\n",
    ")\n",
    "\n",
    "response_text = Text(completion.choices[0].message.content)\n",
    "styled_panel = Panel(\n",
    "    response_text,\n",
    "    title=\"Wine Recommendation without Retrieval\",\n",
    "    expand=False,\n",
    "    border_style=\"bold green\",\n",
    "    padding=(1, 1)\n",
    ")\n",
    "\n",
    "console.print(styled_panel)"
   ]
  },
  {
   "cell_type": "markdown",
   "metadata": {},
   "source": [
    "### Now, add **R**etrieval Results\n",
    "\n",
    "The recommendation sounds great, however, we don't have this wine in our inventory and menu. Moreover, new wines may be newly available that were not part of the pre-training of the LLM.\n",
    "\n",
    "We will run the same query with the **R**trieval results and get better recommendations for our business needs. "
   ]
  },
  {
   "cell_type": "code",
   "execution_count": 14,
   "metadata": {},
   "outputs": [],
   "source": [
    "# define a variable to hold the search results\n",
    "search_results = [hit.payload for hit in hits]"
   ]
  },
  {
   "cell_type": "code",
   "execution_count": 15,
   "metadata": {},
   "outputs": [
    {
     "data": {
      "text/html": [
       "<pre style=\"white-space:pre;overflow-x:auto;line-height:normal;font-family:Menlo,'DejaVu Sans Mono',consolas,'Courier New',monospace\"><span style=\"color: #008000; text-decoration-color: #008000; font-weight: bold\">╭────────────────────────────────────── Wine Recommendation with Retrieval ───────────────────────────────────────╮</span>\n",
       "<span style=\"color: #008000; text-decoration-color: #008000; font-weight: bold\">│</span>                                                                                                                 <span style=\"color: #008000; text-decoration-color: #008000; font-weight: bold\">│</span>\n",
       "<span style=\"color: #008000; text-decoration-color: #008000; font-weight: bold\">│</span> I recommend trying the Catena Zapata Argentino Vineyard Malbec 2004 from Argentina. This wine has received a    <span style=\"color: #008000; text-decoration-color: #008000; font-weight: bold\">│</span>\n",
       "<span style=\"color: #008000; text-decoration-color: #008000; font-weight: bold\">│</span> high rating of 98.0 and offers complex aromas of wood smoke, pepper, clove, black cherry, and blackberry. It is <span style=\"color: #008000; text-decoration-color: #008000; font-weight: bold\">│</span>\n",
       "<span style=\"color: #008000; text-decoration-color: #008000; font-weight: bold\">│</span> a structured wine that can benefit from aging but can also be enjoyed now. It is considered an exceptional      <span style=\"color: #008000; text-decoration-color: #008000; font-weight: bold\">│</span>\n",
       "<span style=\"color: #008000; text-decoration-color: #008000; font-weight: bold\">│</span> achievement in Malbec and a standout wine from Argentina. Enjoy exploring this exquisite Malbec!                <span style=\"color: #008000; text-decoration-color: #008000; font-weight: bold\">│</span>\n",
       "<span style=\"color: #008000; text-decoration-color: #008000; font-weight: bold\">│</span>                                                                                                                 <span style=\"color: #008000; text-decoration-color: #008000; font-weight: bold\">│</span>\n",
       "<span style=\"color: #008000; text-decoration-color: #008000; font-weight: bold\">╰─────────────────────────────────────────────────────────────────────────────────────────────────────────────────╯</span>\n",
       "</pre>\n"
      ],
      "text/plain": [
       "\u001b[1;32m╭─\u001b[0m\u001b[1;32m─────────────────────────────────────\u001b[0m\u001b[1;32m Wine Recommendation with Retrieval \u001b[0m\u001b[1;32m──────────────────────────────────────\u001b[0m\u001b[1;32m─╮\u001b[0m\n",
       "\u001b[1;32m│\u001b[0m                                                                                                                 \u001b[1;32m│\u001b[0m\n",
       "\u001b[1;32m│\u001b[0m I recommend trying the Catena Zapata Argentino Vineyard Malbec 2004 from Argentina. This wine has received a    \u001b[1;32m│\u001b[0m\n",
       "\u001b[1;32m│\u001b[0m high rating of 98.0 and offers complex aromas of wood smoke, pepper, clove, black cherry, and blackberry. It is \u001b[1;32m│\u001b[0m\n",
       "\u001b[1;32m│\u001b[0m a structured wine that can benefit from aging but can also be enjoyed now. It is considered an exceptional      \u001b[1;32m│\u001b[0m\n",
       "\u001b[1;32m│\u001b[0m achievement in Malbec and a standout wine from Argentina. Enjoy exploring this exquisite Malbec!                \u001b[1;32m│\u001b[0m\n",
       "\u001b[1;32m│\u001b[0m                                                                                                                 \u001b[1;32m│\u001b[0m\n",
       "\u001b[1;32m╰─────────────────────────────────────────────────────────────────────────────────────────────────────────────────╯\u001b[0m\n"
      ]
     },
     "metadata": {},
     "output_type": "display_data"
    }
   ],
   "source": [
    "completion = client.chat.completions.create(\n",
    "    model=\"gpt-3.5-turbo\",\n",
    "    messages=[\n",
    "        {\"role\": \"system\", \"content\": \"You are chatbot, a wine specialist. Your top priority is to help guide users into selecting amazing wine and guide them with their requests.\"},\n",
    "        {\"role\": \"user\", \"content\": user_prompt},\n",
    "        {\"role\": \"assistant\", \"content\": str(search_results)}\n",
    "    ]\n",
    ")\n",
    "\n",
    "response_text = Text(completion.choices[0].message.content)\n",
    "styled_panel = Panel(\n",
    "    response_text,\n",
    "    title=\"Wine Recommendation with Retrieval\",\n",
    "    expand=False,\n",
    "    border_style=\"bold green\",\n",
    "    padding=(1, 1)\n",
    ")\n",
    "\n",
    "console.print(styled_panel)"
   ]
  },
  {
   "cell_type": "code",
   "execution_count": null,
   "metadata": {},
   "outputs": [],
   "source": []
  }
 ],
 "metadata": {
  "kernelspec": {
   "display_name": ".venv",
   "language": "python",
   "name": "python3"
  },
  "language_info": {
   "codemirror_mode": {
    "name": "ipython",
    "version": 3
   },
   "file_extension": ".py",
   "mimetype": "text/x-python",
   "name": "python",
   "nbconvert_exporter": "python",
   "pygments_lexer": "ipython3",
   "version": "3.11.0"
  }
 },
 "nbformat": 4,
 "nbformat_minor": 2
}
