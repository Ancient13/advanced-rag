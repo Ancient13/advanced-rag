{
 "cells": [
  {
   "cell_type": "markdown",
   "metadata": {},
   "source": [
    "# Improve Semantic Similarity with Reverse HYDE\n",
    "\n",
    "It is common that the documents that we want to retrieve are longer than the users' queries and have different formats. To increase the accuracy of the **r*etrieval of the documents based on the users' queries, we will generate hypothetical potential queries from each document and use them as vector embeddings to the documents - AKA Reverse Hyde.\n",
    "\n",
    "Please note that the original [Hyde technique](https://arxiv.org/abs/2212.10496) processed the incoming queries of the users, and generated the hypothetical documents from these queries, and then used these hypothetical documents to retrive the real documents. In the reverse HYDE, the processing is done when indexing the documents and not in retrival time. Therefore, the latency of the query is not affectd."
   ]
  },
  {
   "cell_type": "markdown",
   "metadata": {},
   "source": [
    "### Visual improvements\n",
    "\n",
    "We will use [rich library](https://github.com/Textualize/rich) to make the output more readable, and supress warning messages."
   ]
  },
  {
   "cell_type": "code",
   "execution_count": 1,
   "metadata": {},
   "outputs": [],
   "source": [
    "from rich.console import Console\n",
    "from rich.panel import Panel\n",
    "from rich.table import Table\n",
    "\n",
    "# Apply the theme and print the object with rich formatting\n",
    "console = Console()"
   ]
  },
  {
   "cell_type": "code",
   "execution_count": 2,
   "metadata": {},
   "outputs": [],
   "source": [
    "import openai\n",
    "from typing import List, Dict\n",
    "import numpy as np\n",
    "from sklearn.metrics.pairwise import cosine_similarity"
   ]
  },
  {
   "cell_type": "markdown",
   "metadata": {},
   "source": [
    "## Reverse HYDE Implementation\n",
    "\n",
    "We will create a class that will generate and hypotherical questions and also retrieve the document by calculating the semantic similarity matching. In a real application, we can use a vector database for the embedding vector storage, indexing and retrieval. "
   ]
  },
  {
   "cell_type": "code",
   "execution_count": 3,
   "metadata": {},
   "outputs": [],
   "source": [
    "class ReverseHyde:\n",
    "    def __init__(self, api_key: str):\n",
    "        openai.api_key = api_key\n",
    "        self.model = \"text-embedding-ada-002\"\n",
    "\n",
    "    def get_embedding(self, text: str) -> List[float]:\n",
    "        client = openai.OpenAI()\n",
    "        response = client.embeddings.create(input=text, model=self.model)\n",
    "        return response.data[0].embedding\n",
    "\n",
    "    def generate_reverse_hyde(self, chunk: str, n: int = 3) -> List[str]:\n",
    "        prompt = f\"\"\"\n",
    "        \n",
    "Given the following text chunk, generate {n} different questions that this chunk would be a good answer to:\n",
    "\n",
    "Chunk: {chunk}\n",
    "\n",
    "Questions:\n",
    "1.\"\"\"\n",
    "\n",
    "        client = openai.OpenAI()\n",
    "        response = client.chat.completions.create(\n",
    "            model=\"gpt-3.5-turbo\",\n",
    "            messages=[\n",
    "                {\"role\": \"system\", \"content\": \"You are a helpful assistant.\"},\n",
    "                {\"role\": \"user\", \"content\": prompt}\n",
    "            ],\n",
    "            max_tokens=100,\n",
    "            n=1,\n",
    "            stop=None,\n",
    "            temperature=0.7,\n",
    "        )\n",
    "\n",
    "        \n",
    "        questions = response.choices[0].message.content.strip().split('\\n')\n",
    "        console.print(\"Prompt:\", prompt, style=\"bold white\")\n",
    "        console.print(\"Generated Questions:\", questions, style=\"bold green\")\n",
    "        return [q.split('. ', 1)[1] for q in questions if '. ' in q]\n",
    "\n",
    "    def process_chunks(self, chunks: List[str]) -> Dict[str, List[str]]:\n",
    "        processed_chunks = {}\n",
    "        for chunk in chunks:\n",
    "            processed_chunks[chunk] = self.generate_reverse_hyde(chunk)\n",
    "        return processed_chunks\n",
    "\n",
    "    def find_best_chunk(self, query: str, processed_chunks: Dict[str, List[str]]) -> str:\n",
    "        query_embedding = self.get_embedding(query)\n",
    "        \n",
    "        best_similarity = -1\n",
    "        best_chunk = None\n",
    "\n",
    "        for chunk, questions in processed_chunks.items():\n",
    "            chunk_embedding = self.get_embedding(chunk)\n",
    "            question_embeddings = [self.get_embedding(q) for q in questions]\n",
    "            \n",
    "            similarities = cosine_similarity(\n",
    "                [query_embedding], \n",
    "                [chunk_embedding] + question_embeddings\n",
    "            )[0]\n",
    "            \n",
    "            max_similarity = np.max(similarities)\n",
    "            \n",
    "            if max_similarity > best_similarity:\n",
    "                best_similarity = max_similarity\n",
    "                best_chunk = chunk\n",
    "\n",
    "        return best_chunk"
   ]
  },
  {
   "cell_type": "markdown",
   "metadata": {},
   "source": [
    "Loading API keys from environment variable"
   ]
  },
  {
   "cell_type": "code",
   "execution_count": 4,
   "metadata": {},
   "outputs": [
    {
     "data": {
      "text/plain": [
       "True"
      ]
     },
     "execution_count": 4,
     "metadata": {},
     "output_type": "execute_result"
    }
   ],
   "source": [
    "from dotenv import load_dotenv\n",
    "\n",
    "load_dotenv()"
   ]
  },
  {
   "cell_type": "markdown",
   "metadata": {},
   "source": [
    "## Enriching the document index with LLM generated Hypothetical questions"
   ]
  },
  {
   "cell_type": "code",
   "execution_count": 5,
   "metadata": {},
   "outputs": [
    {
     "data": {
      "text/html": [
       "<pre style=\"white-space:pre;overflow-x:auto;line-height:normal;font-family:Menlo,'DejaVu Sans Mono',consolas,'Courier New',monospace\"><span style=\"color: #c0c0c0; text-decoration-color: #c0c0c0; font-weight: bold\">Prompt: </span>\n",
       "<span style=\"color: #c0c0c0; text-decoration-color: #c0c0c0; font-weight: bold\">        </span>\n",
       "<span style=\"color: #c0c0c0; text-decoration-color: #c0c0c0; font-weight: bold\">Given the following text chunk, generate </span><span style=\"color: #008080; text-decoration-color: #008080; font-weight: bold\">3</span><span style=\"color: #c0c0c0; text-decoration-color: #c0c0c0; font-weight: bold\"> different questions that this chunk would be a good answer to:</span>\n",
       "\n",
       "<span style=\"color: #c0c0c0; text-decoration-color: #c0c0c0; font-weight: bold\">Chunk: The mitochondria is the powerhouse of the cell.</span>\n",
       "\n",
       "<span style=\"color: #c0c0c0; text-decoration-color: #c0c0c0; font-weight: bold\">Questions:</span>\n",
       "<span style=\"color: #008080; text-decoration-color: #008080; font-weight: bold\">1</span><span style=\"color: #c0c0c0; text-decoration-color: #c0c0c0; font-weight: bold\">.</span>\n",
       "</pre>\n"
      ],
      "text/plain": [
       "\u001b[1;37mPrompt: \u001b[0m\n",
       "\u001b[1;37m        \u001b[0m\n",
       "\u001b[1;37mGiven the following text chunk, generate \u001b[0m\u001b[1;36m3\u001b[0m\u001b[1;37m different questions that this chunk would be a good answer to:\u001b[0m\n",
       "\n",
       "\u001b[1;37mChunk: The mitochondria is the powerhouse of the cell.\u001b[0m\n",
       "\n",
       "\u001b[1;37mQuestions:\u001b[0m\n",
       "\u001b[1;36m1\u001b[0m\u001b[1;37m.\u001b[0m\n"
      ]
     },
     "metadata": {},
     "output_type": "display_data"
    },
    {
     "data": {
      "text/html": [
       "<pre style=\"white-space:pre;overflow-x:auto;line-height:normal;font-family:Menlo,'DejaVu Sans Mono',consolas,'Courier New',monospace\"><span style=\"color: #008000; text-decoration-color: #008000; font-weight: bold\">Generated Questions:</span>\n",
       "<span style=\"color: #008000; text-decoration-color: #008000; font-weight: bold\">[</span>\n",
       "<span style=\"color: #008000; text-decoration-color: #008000; font-weight: bold\">    </span><span style=\"color: #008000; text-decoration-color: #008000\">'What is the main function of the mitochondria?'</span><span style=\"color: #008000; text-decoration-color: #008000; font-weight: bold\">,</span>\n",
       "<span style=\"color: #008000; text-decoration-color: #008000; font-weight: bold\">    </span><span style=\"color: #008000; text-decoration-color: #008000\">'2. Which organelle in a cell is often referred to as the powerhouse?'</span><span style=\"color: #008000; text-decoration-color: #008000; font-weight: bold\">,</span>\n",
       "<span style=\"color: #008000; text-decoration-color: #008000; font-weight: bold\">    </span><span style=\"color: #008000; text-decoration-color: #008000\">'3. What is responsible for producing energy in a cell?'</span>\n",
       "<span style=\"color: #008000; text-decoration-color: #008000; font-weight: bold\">]</span>\n",
       "</pre>\n"
      ],
      "text/plain": [
       "\u001b[1;32mGenerated Questions:\u001b[0m\n",
       "\u001b[1;32m[\u001b[0m\n",
       "\u001b[1;32m    \u001b[0m\u001b[32m'What is the main function of the mitochondria?'\u001b[0m\u001b[1;32m,\u001b[0m\n",
       "\u001b[1;32m    \u001b[0m\u001b[32m'2. Which organelle in a cell is often referred to as the powerhouse?'\u001b[0m\u001b[1;32m,\u001b[0m\n",
       "\u001b[1;32m    \u001b[0m\u001b[32m'3. What is responsible for producing energy in a cell?'\u001b[0m\n",
       "\u001b[1;32m]\u001b[0m\n"
      ]
     },
     "metadata": {},
     "output_type": "display_data"
    },
    {
     "data": {
      "text/html": [
       "<pre style=\"white-space:pre;overflow-x:auto;line-height:normal;font-family:Menlo,'DejaVu Sans Mono',consolas,'Courier New',monospace\"><span style=\"color: #c0c0c0; text-decoration-color: #c0c0c0; font-weight: bold\">Prompt: </span>\n",
       "<span style=\"color: #c0c0c0; text-decoration-color: #c0c0c0; font-weight: bold\">        </span>\n",
       "<span style=\"color: #c0c0c0; text-decoration-color: #c0c0c0; font-weight: bold\">Given the following text chunk, generate </span><span style=\"color: #008080; text-decoration-color: #008080; font-weight: bold\">3</span><span style=\"color: #c0c0c0; text-decoration-color: #c0c0c0; font-weight: bold\"> different questions that this chunk would be a good answer to:</span>\n",
       "\n",
       "<span style=\"color: #c0c0c0; text-decoration-color: #c0c0c0; font-weight: bold\">Chunk: Python is a high-level, interpreted programming language.</span>\n",
       "\n",
       "<span style=\"color: #c0c0c0; text-decoration-color: #c0c0c0; font-weight: bold\">Questions:</span>\n",
       "<span style=\"color: #008080; text-decoration-color: #008080; font-weight: bold\">1</span><span style=\"color: #c0c0c0; text-decoration-color: #c0c0c0; font-weight: bold\">.</span>\n",
       "</pre>\n"
      ],
      "text/plain": [
       "\u001b[1;37mPrompt: \u001b[0m\n",
       "\u001b[1;37m        \u001b[0m\n",
       "\u001b[1;37mGiven the following text chunk, generate \u001b[0m\u001b[1;36m3\u001b[0m\u001b[1;37m different questions that this chunk would be a good answer to:\u001b[0m\n",
       "\n",
       "\u001b[1;37mChunk: Python is a high-level, interpreted programming language.\u001b[0m\n",
       "\n",
       "\u001b[1;37mQuestions:\u001b[0m\n",
       "\u001b[1;36m1\u001b[0m\u001b[1;37m.\u001b[0m\n"
      ]
     },
     "metadata": {},
     "output_type": "display_data"
    },
    {
     "data": {
      "text/html": [
       "<pre style=\"white-space:pre;overflow-x:auto;line-height:normal;font-family:Menlo,'DejaVu Sans Mono',consolas,'Courier New',monospace\"><span style=\"color: #008000; text-decoration-color: #008000; font-weight: bold\">Generated Questions:</span>\n",
       "<span style=\"color: #008000; text-decoration-color: #008000; font-weight: bold\">[</span>\n",
       "<span style=\"color: #008000; text-decoration-color: #008000; font-weight: bold\">    </span><span style=\"color: #008000; text-decoration-color: #008000\">'What type of programming language is Python?'</span><span style=\"color: #008000; text-decoration-color: #008000; font-weight: bold\">,</span>\n",
       "<span style=\"color: #008000; text-decoration-color: #008000; font-weight: bold\">    </span><span style=\"color: #008000; text-decoration-color: #008000\">'2. How would you describe Python in terms of its level?'</span><span style=\"color: #008000; text-decoration-color: #008000; font-weight: bold\">,</span>\n",
       "<span style=\"color: #008000; text-decoration-color: #008000; font-weight: bold\">    </span><span style=\"color: #008000; text-decoration-color: #008000\">\"3. What is Python's method of execution in the context of programming languages?\"</span>\n",
       "<span style=\"color: #008000; text-decoration-color: #008000; font-weight: bold\">]</span>\n",
       "</pre>\n"
      ],
      "text/plain": [
       "\u001b[1;32mGenerated Questions:\u001b[0m\n",
       "\u001b[1;32m[\u001b[0m\n",
       "\u001b[1;32m    \u001b[0m\u001b[32m'What type of programming language is Python?'\u001b[0m\u001b[1;32m,\u001b[0m\n",
       "\u001b[1;32m    \u001b[0m\u001b[32m'2. How would you describe Python in terms of its level?'\u001b[0m\u001b[1;32m,\u001b[0m\n",
       "\u001b[1;32m    \u001b[0m\u001b[32m\"3. What is Python's method of execution in the context of programming languages?\"\u001b[0m\n",
       "\u001b[1;32m]\u001b[0m\n"
      ]
     },
     "metadata": {},
     "output_type": "display_data"
    },
    {
     "data": {
      "text/html": [
       "<pre style=\"white-space:pre;overflow-x:auto;line-height:normal;font-family:Menlo,'DejaVu Sans Mono',consolas,'Courier New',monospace\"><span style=\"color: #c0c0c0; text-decoration-color: #c0c0c0; font-weight: bold\">Prompt: </span>\n",
       "<span style=\"color: #c0c0c0; text-decoration-color: #c0c0c0; font-weight: bold\">        </span>\n",
       "<span style=\"color: #c0c0c0; text-decoration-color: #c0c0c0; font-weight: bold\">Given the following text chunk, generate </span><span style=\"color: #008080; text-decoration-color: #008080; font-weight: bold\">3</span><span style=\"color: #c0c0c0; text-decoration-color: #c0c0c0; font-weight: bold\"> different questions that this chunk would be a good answer to:</span>\n",
       "\n",
       "<span style=\"color: #c0c0c0; text-decoration-color: #c0c0c0; font-weight: bold\">Chunk: The American Civil War lasted from </span><span style=\"color: #008080; text-decoration-color: #008080; font-weight: bold\">1861</span><span style=\"color: #c0c0c0; text-decoration-color: #c0c0c0; font-weight: bold\"> to </span><span style=\"color: #008080; text-decoration-color: #008080; font-weight: bold\">1865</span><span style=\"color: #c0c0c0; text-decoration-color: #c0c0c0; font-weight: bold\">.</span>\n",
       "\n",
       "<span style=\"color: #c0c0c0; text-decoration-color: #c0c0c0; font-weight: bold\">Questions:</span>\n",
       "<span style=\"color: #008080; text-decoration-color: #008080; font-weight: bold\">1</span><span style=\"color: #c0c0c0; text-decoration-color: #c0c0c0; font-weight: bold\">.</span>\n",
       "</pre>\n"
      ],
      "text/plain": [
       "\u001b[1;37mPrompt: \u001b[0m\n",
       "\u001b[1;37m        \u001b[0m\n",
       "\u001b[1;37mGiven the following text chunk, generate \u001b[0m\u001b[1;36m3\u001b[0m\u001b[1;37m different questions that this chunk would be a good answer to:\u001b[0m\n",
       "\n",
       "\u001b[1;37mChunk: The American Civil War lasted from \u001b[0m\u001b[1;36m1861\u001b[0m\u001b[1;37m to \u001b[0m\u001b[1;36m1865\u001b[0m\u001b[1;37m.\u001b[0m\n",
       "\n",
       "\u001b[1;37mQuestions:\u001b[0m\n",
       "\u001b[1;36m1\u001b[0m\u001b[1;37m.\u001b[0m\n"
      ]
     },
     "metadata": {},
     "output_type": "display_data"
    },
    {
     "data": {
      "text/html": [
       "<pre style=\"white-space:pre;overflow-x:auto;line-height:normal;font-family:Menlo,'DejaVu Sans Mono',consolas,'Courier New',monospace\"><span style=\"color: #008000; text-decoration-color: #008000; font-weight: bold\">Generated Questions:</span>\n",
       "<span style=\"color: #008000; text-decoration-color: #008000; font-weight: bold\">[</span>\n",
       "<span style=\"color: #008000; text-decoration-color: #008000; font-weight: bold\">    </span><span style=\"color: #008000; text-decoration-color: #008000\">'1. When did the American Civil War take place?'</span><span style=\"color: #008000; text-decoration-color: #008000; font-weight: bold\">,</span>\n",
       "<span style=\"color: #008000; text-decoration-color: #008000; font-weight: bold\">    </span><span style=\"color: #008000; text-decoration-color: #008000\">'2. What years did the American Civil War occur?'</span><span style=\"color: #008000; text-decoration-color: #008000; font-weight: bold\">,</span>\n",
       "<span style=\"color: #008000; text-decoration-color: #008000; font-weight: bold\">    </span><span style=\"color: #008000; text-decoration-color: #008000\">'3. How long did the American Civil War last?'</span>\n",
       "<span style=\"color: #008000; text-decoration-color: #008000; font-weight: bold\">]</span>\n",
       "</pre>\n"
      ],
      "text/plain": [
       "\u001b[1;32mGenerated Questions:\u001b[0m\n",
       "\u001b[1;32m[\u001b[0m\n",
       "\u001b[1;32m    \u001b[0m\u001b[32m'1. When did the American Civil War take place?'\u001b[0m\u001b[1;32m,\u001b[0m\n",
       "\u001b[1;32m    \u001b[0m\u001b[32m'2. What years did the American Civil War occur?'\u001b[0m\u001b[1;32m,\u001b[0m\n",
       "\u001b[1;32m    \u001b[0m\u001b[32m'3. How long did the American Civil War last?'\u001b[0m\n",
       "\u001b[1;32m]\u001b[0m\n"
      ]
     },
     "metadata": {},
     "output_type": "display_data"
    }
   ],
   "source": [
    "import os\n",
    "# Usage example\n",
    "api_key = os.getenv(\"OPENAI_API_KEY\")\n",
    "reverse_hyde = ReverseHyde(api_key)\n",
    "\n",
    "chunks = [\n",
    "    \"The mitochondria is the powerhouse of the cell.\",\n",
    "    \"Python is a high-level, interpreted programming language.\",\n",
    "    \"The American Civil War lasted from 1861 to 1865.\"\n",
    "]\n",
    "\n",
    "processed_chunks = reverse_hyde.process_chunks(chunks)"
   ]
  },
  {
   "cell_type": "markdown",
   "metadata": {},
   "source": [
    "## Query the enriched index\n",
    "\n",
    "Once we have an index with multiple hypothetical questions to the documents, we can use it to retrive the document based on a real user's query."
   ]
  },
  {
   "cell_type": "code",
   "execution_count": 8,
   "metadata": {},
   "outputs": [
    {
     "data": {
      "text/html": [
       "<pre style=\"white-space:pre;overflow-x:auto;line-height:normal;font-family:Menlo,'DejaVu Sans Mono',consolas,'Courier New',monospace\"><span style=\"color: #c0c0c0; text-decoration-color: #c0c0c0\">╭───────────────────────────────── </span><span style=\"color: #c0c0c0; text-decoration-color: #c0c0c0; font-weight: bold\">Query and Best Match</span><span style=\"color: #c0c0c0; text-decoration-color: #c0c0c0\"> ──────────────────────────────────╮</span>\n",
       "<span style=\"color: #c0c0c0; text-decoration-color: #c0c0c0\">│</span> ┏━━━━━━━━━━━━━━━━━━━━━━━━━━━━━━━━┳━━━━━━━━━━━━━━━━━━━━━━━━━━━━━━━━━━━━━━━━━━━━━━━━━━━━┓ <span style=\"color: #c0c0c0; text-decoration-color: #c0c0c0\">│</span>\n",
       "<span style=\"color: #c0c0c0; text-decoration-color: #c0c0c0\">│</span> ┃<span style=\"color: #808000; text-decoration-color: #808000; font-weight: bold\"> Query                          </span>┃<span style=\"color: #808000; text-decoration-color: #808000; font-weight: bold\"> Best Matching Chunk                                </span>┃ <span style=\"color: #c0c0c0; text-decoration-color: #c0c0c0\">│</span>\n",
       "<span style=\"color: #c0c0c0; text-decoration-color: #c0c0c0\">│</span> ┡━━━━━━━━━━━━━━━━━━━━━━━━━━━━━━━━╇━━━━━━━━━━━━━━━━━━━━━━━━━━━━━━━━━━━━━━━━━━━━━━━━━━━━┩ <span style=\"color: #c0c0c0; text-decoration-color: #c0c0c0\">│</span>\n",
       "<span style=\"color: #c0c0c0; text-decoration-color: #c0c0c0\">│</span> │<span style=\"color: #00ffff; text-decoration-color: #00ffff\"> What generates energy in a     </span>│<span style=\"color: #ffff00; text-decoration-color: #ffff00\"> The mitochondria is the powerhouse of the cell.    </span>│ <span style=\"color: #c0c0c0; text-decoration-color: #c0c0c0\">│</span>\n",
       "<span style=\"color: #c0c0c0; text-decoration-color: #c0c0c0\">│</span> │<span style=\"color: #00ffff; text-decoration-color: #00ffff\"> cell?                          </span>│<span style=\"color: #ffff00; text-decoration-color: #ffff00\">                                                    </span>│ <span style=\"color: #c0c0c0; text-decoration-color: #c0c0c0\">│</span>\n",
       "<span style=\"color: #c0c0c0; text-decoration-color: #c0c0c0\">│</span> └────────────────────────────────┴────────────────────────────────────────────────────┘ <span style=\"color: #c0c0c0; text-decoration-color: #c0c0c0\">│</span>\n",
       "<span style=\"color: #c0c0c0; text-decoration-color: #c0c0c0\">╰─────────────────────────────────────────────────────────────────────────────────────────╯</span>\n",
       "</pre>\n"
      ],
      "text/plain": [
       "\u001b[37m╭─\u001b[0m\u001b[37m────────────────────────────────\u001b[0m\u001b[37m \u001b[0m\u001b[1;37mQuery and Best Match\u001b[0m\u001b[37m \u001b[0m\u001b[37m─────────────────────────────────\u001b[0m\u001b[37m─╮\u001b[0m\n",
       "\u001b[37m│\u001b[0m ┏━━━━━━━━━━━━━━━━━━━━━━━━━━━━━━━━┳━━━━━━━━━━━━━━━━━━━━━━━━━━━━━━━━━━━━━━━━━━━━━━━━━━━━┓ \u001b[37m│\u001b[0m\n",
       "\u001b[37m│\u001b[0m ┃\u001b[1;33m \u001b[0m\u001b[1;33mQuery                         \u001b[0m\u001b[1;33m \u001b[0m┃\u001b[1;33m \u001b[0m\u001b[1;33mBest Matching Chunk                               \u001b[0m\u001b[1;33m \u001b[0m┃ \u001b[37m│\u001b[0m\n",
       "\u001b[37m│\u001b[0m ┡━━━━━━━━━━━━━━━━━━━━━━━━━━━━━━━━╇━━━━━━━━━━━━━━━━━━━━━━━━━━━━━━━━━━━━━━━━━━━━━━━━━━━━┩ \u001b[37m│\u001b[0m\n",
       "\u001b[37m│\u001b[0m │\u001b[96m \u001b[0m\u001b[96mWhat generates energy in a    \u001b[0m\u001b[96m \u001b[0m│\u001b[93m \u001b[0m\u001b[93mThe mitochondria is the powerhouse of the cell.   \u001b[0m\u001b[93m \u001b[0m│ \u001b[37m│\u001b[0m\n",
       "\u001b[37m│\u001b[0m │\u001b[96m \u001b[0m\u001b[96mcell?                         \u001b[0m\u001b[96m \u001b[0m│\u001b[93m                                                    \u001b[0m│ \u001b[37m│\u001b[0m\n",
       "\u001b[37m│\u001b[0m └────────────────────────────────┴────────────────────────────────────────────────────┘ \u001b[37m│\u001b[0m\n",
       "\u001b[37m╰─────────────────────────────────────────────────────────────────────────────────────────╯\u001b[0m\n"
      ]
     },
     "metadata": {},
     "output_type": "display_data"
    }
   ],
   "source": [
    "query = \"What generates energy in a cell?\"\n",
    "best_chunk = reverse_hyde.find_best_chunk(query, processed_chunks)\n",
    "\n",
    "# Create a table for both query and best match\n",
    "table = Table(show_header=True, header_style=\"bold yellow\")\n",
    "table.add_column(\"Query\", style=\"bright_cyan\", width=30)\n",
    "table.add_column(\"Best Matching Chunk\", style=\"bright_yellow\", width=50)\n",
    "table.add_row(query, best_chunk)\n",
    "\n",
    "# Create a panel for the table\n",
    "panel = Panel(\n",
    "    table,\n",
    "    title=\"[bold]Query and Best Match\",\n",
    "    border_style=\"white\",\n",
    "    expand=False\n",
    ")\n",
    "\n",
    "# Print the panel\n",
    "console.print(panel)"
   ]
  },
  {
   "cell_type": "code",
   "execution_count": null,
   "metadata": {},
   "outputs": [],
   "source": []
  }
 ],
 "metadata": {
  "kernelspec": {
   "display_name": ".venv",
   "language": "python",
   "name": "python3"
  },
  "language_info": {
   "codemirror_mode": {
    "name": "ipython",
    "version": 3
   },
   "file_extension": ".py",
   "mimetype": "text/x-python",
   "name": "python",
   "nbconvert_exporter": "python",
   "pygments_lexer": "ipython3",
   "version": "3.11.0"
  }
 },
 "nbformat": 4,
 "nbformat_minor": 2
}
